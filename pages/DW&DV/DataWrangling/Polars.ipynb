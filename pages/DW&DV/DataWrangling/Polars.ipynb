{
 "cells": [
  {
   "cell_type": "markdown",
   "metadata": {},
   "source": [
    "# Audible Data"
   ]
  },
  {
   "cell_type": "markdown",
   "metadata": {},
   "source": [
    "## Import & Data Call"
   ]
  },
  {
   "cell_type": "code",
   "execution_count": 58,
   "metadata": {},
   "outputs": [],
   "source": [
    "from bs4 import BeautifulSoup\n",
    "from selenium import webdriver\n",
    "from selenium.webdriver.common.by import By\n",
    "from selenium.webdriver.chrome.service import Service\n",
    "from selenium.common.exceptions import NoSuchElementException\n",
    "from webdriver_manager.chrome import ChromeDriverManager\n",
    "import polars as pl\n",
    "import re"
   ]
  },
  {
   "cell_type": "code",
   "execution_count": 59,
   "metadata": {},
   "outputs": [],
   "source": [
    "df = pl.read_parquet(\"./Data/Raw/audible_uncleaned.parquet\", use_pyarrow=True)"
   ]
  },
  {
   "cell_type": "code",
   "execution_count": 60,
   "metadata": {},
   "outputs": [
    {
     "data": {
      "text/html": [
       "<div><style>\n",
       ".dataframe > thead > tr,\n",
       ".dataframe > tbody > tr {\n",
       "  text-align: right;\n",
       "  white-space: pre-wrap;\n",
       "}\n",
       "</style>\n",
       "<small>shape: (5, 8)</small><table border=\"1\" class=\"dataframe\"><thead><tr><th>name</th><th>author</th><th>narrator</th><th>time</th><th>releasedate</th><th>language</th><th>stars</th><th>price</th></tr><tr><td>str</td><td>str</td><td>str</td><td>str</td><td>str</td><td>str</td><td>str</td><td>str</td></tr></thead><tbody><tr><td>&quot;Geronimo Stilt…</td><td>&quot;Writtenby:Gero…</td><td>&quot;Narratedby:Bil…</td><td>&quot;2 hrs and 20 m…</td><td>&quot;04-08-08&quot;</td><td>&quot;English&quot;</td><td>&quot;5 out of 5 sta…</td><td>&quot;468.00&quot;</td></tr><tr><td>&quot;The Burning Ma…</td><td>&quot;Writtenby:Rick…</td><td>&quot;Narratedby:Rob…</td><td>&quot;13 hrs and 8 m…</td><td>&quot;01-05-18&quot;</td><td>&quot;English&quot;</td><td>&quot;4.5 out of 5 s…</td><td>&quot;820.00&quot;</td></tr><tr><td>&quot;The Deep End&quot;</td><td>&quot;Writtenby:Jeff…</td><td>&quot;Narratedby:Dan…</td><td>&quot;2 hrs and 3 mi…</td><td>&quot;06-11-20&quot;</td><td>&quot;English&quot;</td><td>&quot;4.5 out of 5 s…</td><td>&quot;410.00&quot;</td></tr><tr><td>&quot;Daughter of th…</td><td>&quot;Writtenby:Rick…</td><td>&quot;Narratedby:Son…</td><td>&quot;11 hrs and 16 …</td><td>&quot;05-10-21&quot;</td><td>&quot;English&quot;</td><td>&quot;4.5 out of 5 s…</td><td>&quot;615.00&quot;</td></tr><tr><td>&quot;The Lightning …</td><td>&quot;Writtenby:Rick…</td><td>&quot;Narratedby:Jes…</td><td>&quot;10 hrs&quot;</td><td>&quot;13-01-10&quot;</td><td>&quot;English&quot;</td><td>&quot;4.5 out of 5 s…</td><td>&quot;820.00&quot;</td></tr></tbody></table></div>"
      ],
      "text/plain": [
       "shape: (5, 8)\n",
       "┌─────────────┬────────────┬────────────┬────────────┬────────────┬──────────┬────────────┬────────┐\n",
       "│ name        ┆ author     ┆ narrator   ┆ time       ┆ releasedat ┆ language ┆ stars      ┆ price  │\n",
       "│ ---         ┆ ---        ┆ ---        ┆ ---        ┆ e          ┆ ---      ┆ ---        ┆ ---    │\n",
       "│ str         ┆ str        ┆ str        ┆ str        ┆ ---        ┆ str      ┆ str        ┆ str    │\n",
       "│             ┆            ┆            ┆            ┆ str        ┆          ┆            ┆        │\n",
       "╞═════════════╪════════════╪════════════╪════════════╪════════════╪══════════╪════════════╪════════╡\n",
       "│ Geronimo    ┆ Writtenby: ┆ Narratedby ┆ 2 hrs and  ┆ 04-08-08   ┆ English  ┆ 5 out of 5 ┆ 468.00 │\n",
       "│ Stilton #11 ┆ GeronimoSt ┆ :BillLobel ┆ 20 mins    ┆            ┆          ┆ stars34    ┆        │\n",
       "│ & #12       ┆ ilton      ┆ y          ┆            ┆            ┆          ┆ ratings    ┆        │\n",
       "│ The Burning ┆ Writtenby: ┆ Narratedby ┆ 13 hrs and ┆ 01-05-18   ┆ English  ┆ 4.5 out of ┆ 820.00 │\n",
       "│ Maze        ┆ RickRiorda ┆ :RobbieDay ┆ 8 mins     ┆            ┆          ┆ 5 stars41  ┆        │\n",
       "│             ┆ n          ┆ mond       ┆            ┆            ┆          ┆ ratings    ┆        │\n",
       "│ The Deep    ┆ Writtenby: ┆ Narratedby ┆ 2 hrs and  ┆ 06-11-20   ┆ English  ┆ 4.5 out of ┆ 410.00 │\n",
       "│ End         ┆ JeffKinney ┆ :DanRussel ┆ 3 mins     ┆            ┆          ┆ 5 stars38  ┆        │\n",
       "│             ┆            ┆ l          ┆            ┆            ┆          ┆ ratings    ┆        │\n",
       "│ Daughter of ┆ Writtenby: ┆ Narratedby ┆ 11 hrs and ┆ 05-10-21   ┆ English  ┆ 4.5 out of ┆ 615.00 │\n",
       "│ the Deep    ┆ RickRiorda ┆ :SoneelaNa ┆ 16 mins    ┆            ┆          ┆ 5 stars12  ┆        │\n",
       "│             ┆ n          ┆ nkani      ┆            ┆            ┆          ┆ ratings    ┆        │\n",
       "│ The         ┆ Writtenby: ┆ Narratedby ┆ 10 hrs     ┆ 13-01-10   ┆ English  ┆ 4.5 out of ┆ 820.00 │\n",
       "│ Lightning   ┆ RickRiorda ┆ :JesseBern ┆            ┆            ┆          ┆ 5 stars181 ┆        │\n",
       "│ Thief:      ┆ n          ┆ stein      ┆            ┆            ┆          ┆ ratings    ┆        │\n",
       "│ Percy       ┆            ┆            ┆            ┆            ┆          ┆            ┆        │\n",
       "│ Jacks…      ┆            ┆            ┆            ┆            ┆          ┆            ┆        │\n",
       "└─────────────┴────────────┴────────────┴────────────┴────────────┴──────────┴────────────┴────────┘"
      ]
     },
     "execution_count": 60,
     "metadata": {},
     "output_type": "execute_result"
    }
   ],
   "source": [
    "df.head(5)"
   ]
  },
  {
   "cell_type": "markdown",
   "metadata": {},
   "source": [
    "## Webscraping USD to INR Exchange Rate"
   ]
  },
  {
   "cell_type": "code",
   "execution_count": 68,
   "metadata": {},
   "outputs": [],
   "source": [
    "desired = 'USD'\n",
    "origin = 'INR'\n",
    "weblink = f'https://www.xe.com/currencyconverter/convert/?Amount=1&From={origin}&To={desired}'\n",
    "driver = webdriver.Chrome(service=Service(ChromeDriverManager().install()))\n",
    "driver.get(weblink)\n",
    "soup = BeautifulSoup(driver.page_source, 'html.parser')\n",
    "raw_text = soup.find('p', {'class': 'sc-423c2a5f-1 gPUWGS'}).text.strip()\n",
    "conversion_rate = float(re.findall(r'\\d+\\.\\d+', raw_text)[0])\n",
    "driver.quit()"
   ]
  },
  {
   "cell_type": "markdown",
   "metadata": {},
   "source": [
    "## Cleaning Data"
   ]
  },
  {
   "cell_type": "code",
   "execution_count": 62,
   "metadata": {},
   "outputs": [],
   "source": [
    "def extract_time(time_str):\n",
    "    time_str = time_str.lower()\n",
    "    if 'lethan1ute' in time_str or 'less than 1 minute' in time_str:\n",
    "        return 0, 0.5\n",
    "    hours = re.search(r'(\\d+)\\s*hr', time_str)\n",
    "    minutes = re.search(r'(\\d+)\\s*min', time_str)\n",
    "    hours = float(hours.group(1)) if hours else 0\n",
    "    minutes = float(minutes.group(1)) if minutes else 0\n",
    "    return hours, minutes\n"
   ]
  },
  {
   "cell_type": "code",
   "execution_count": 63,
   "metadata": {},
   "outputs": [],
   "source": [
    "cleaned = df\\\n",
    "    .with_columns(\n",
    "        \n",
    "        pl.col(\"author\")\n",
    "            .str.replace_all(\"Writtenby:\", \"\")\n",
    "            .str.replace_all(r\"([a-z])([A-Z])\", r\"$1 $2\")\n",
    "            .str.split(\",\"),\n",
    "            \n",
    "        pl.col(\"narrator\")\n",
    "            .str.replace_all(\"Narratedby:\", \"\")\n",
    "            .str.replace_all(r\"([a-z])([A-Z])\", r\"$1 $2\")\n",
    "            .str.split(\",\"),\n",
    "            \n",
    "        ((pl.col(\"time\")\\\n",
    "            .replace(r\"Lethan1ute|Less than 1 minute\", None)\\\n",
    "            .replace(r\"s| and \", \"\")\\\n",
    "            .map_elements(lambda y: extract_time(y)[0]) * 60)\n",
    "        +\n",
    "        pl.col(\"time\")\\\n",
    "            .replace(r\"Lethan1ute|Less than 1 minute\", None)\\\n",
    "            .replace(r\"s| and \", \"\")\\\n",
    "            .map_elements(lambda y: extract_time(y)[1])).alias(\"Runtime\"),\n",
    "        \n",
    "        pl.col(\"releasedate\").str.to_date(\"%d-%m-%y\"),\n",
    "        \n",
    "        pl.col(\"price\")\n",
    "            .str.replace_all(\",\", \"\")\n",
    "            .replace(\"Free\", None)\n",
    "            .cast(pl.Float64),\n",
    "            \n",
    "        pl.col(\"language\")\n",
    "            .str.to_titlecase(),\n",
    "            \n",
    "        pl.col(\"stars\")\n",
    "            .str.replace_all(r\" out of 5 | rating|s\", \"\")\n",
    "            .replace(\"Not rated yet\", None)\n",
    "            .str.splitn(\"tar\", 2)\n",
    "            .struct.rename_fields([\"Rating\", \"Reviews\"])\n",
    "            .alias(\"stars\"),\n",
    "    )\\\n",
    "    .unnest(\"stars\")\\\n",
    "    .with_columns(\n",
    "        (pl.col(\"price\") * conversion_rate).round(2).alias(\"Price USD\"))\\\n",
    "    .drop(\"time\")\\\n",
    "    .with_columns(pl.col(\"author\").list.len().alias(\"Authors Count\"),\n",
    "                  pl.col(\"narrator\").list.len().alias(\"Narrators Count\"),\n",
    "                  pl.col(\"Rating\").cast(pl.Float32),\n",
    "                  pl.col(\"Reviews\").str.replace(\",\", \"\").cast(pl.Int64))\\\n",
    "    .rename({\"price\": \"Price INR\",\n",
    "             \"name\": \"Title\",\n",
    "             \"author\": \"Author\",\n",
    "             \"narrator\": \"Narrator\",\n",
    "             \"releasedate\": \"Release Date\",\n",
    "             \"language\": \"Language\"})"
   ]
  },
  {
   "cell_type": "code",
   "execution_count": 64,
   "metadata": {},
   "outputs": [
    {
     "data": {
      "text/html": [
       "<div><style>\n",
       ".dataframe > thead > tr,\n",
       ".dataframe > tbody > tr {\n",
       "  text-align: right;\n",
       "  white-space: pre-wrap;\n",
       "}\n",
       "</style>\n",
       "<small>shape: (5, 12)</small><table border=\"1\" class=\"dataframe\"><thead><tr><th>Title</th><th>Author</th><th>Narrator</th><th>Release Date</th><th>Language</th><th>Rating</th><th>Reviews</th><th>Price INR</th><th>Runtime</th><th>Price USD</th><th>Authors Count</th><th>Narrators Count</th></tr><tr><td>str</td><td>list[str]</td><td>list[str]</td><td>date</td><td>str</td><td>f32</td><td>i64</td><td>f64</td><td>f64</td><td>f64</td><td>u32</td><td>u32</td></tr></thead><tbody><tr><td>&quot;Geronimo Stilt…</td><td>[&quot;Geronimo Stilton&quot;]</td><td>[&quot;Bill Lobely&quot;]</td><td>2008-08-04</td><td>&quot;English&quot;</td><td>5.0</td><td>34</td><td>468.0</td><td>140.0</td><td>5.58</td><td>1</td><td>1</td></tr><tr><td>&quot;The Burning Ma…</td><td>[&quot;Rick Riordan&quot;]</td><td>[&quot;Robbie Daymond&quot;]</td><td>2018-05-01</td><td>&quot;English&quot;</td><td>4.5</td><td>41</td><td>820.0</td><td>788.0</td><td>9.77</td><td>1</td><td>1</td></tr><tr><td>&quot;The Deep End&quot;</td><td>[&quot;Jeff Kinney&quot;]</td><td>[&quot;Dan Russell&quot;]</td><td>2020-11-06</td><td>&quot;English&quot;</td><td>4.5</td><td>38</td><td>410.0</td><td>123.0</td><td>4.89</td><td>1</td><td>1</td></tr><tr><td>&quot;Daughter of th…</td><td>[&quot;Rick Riordan&quot;]</td><td>[&quot;Soneela Nankani&quot;]</td><td>2021-10-05</td><td>&quot;English&quot;</td><td>4.5</td><td>12</td><td>615.0</td><td>676.0</td><td>7.33</td><td>1</td><td>1</td></tr><tr><td>&quot;The Lightning …</td><td>[&quot;Rick Riordan&quot;]</td><td>[&quot;Jesse Bernstein&quot;]</td><td>2010-01-13</td><td>&quot;English&quot;</td><td>4.5</td><td>181</td><td>820.0</td><td>600.0</td><td>9.77</td><td>1</td><td>1</td></tr></tbody></table></div>"
      ],
      "text/plain": [
       "shape: (5, 12)\n",
       "┌────────────┬───────────┬───────────┬───────────┬───┬─────────┬───────────┬───────────┬───────────┐\n",
       "│ Title      ┆ Author    ┆ Narrator  ┆ Release   ┆ … ┆ Runtime ┆ Price USD ┆ Authors   ┆ Narrators │\n",
       "│ ---        ┆ ---       ┆ ---       ┆ Date      ┆   ┆ ---     ┆ ---       ┆ Count     ┆ Count     │\n",
       "│ str        ┆ list[str] ┆ list[str] ┆ ---       ┆   ┆ f64     ┆ f64       ┆ ---       ┆ ---       │\n",
       "│            ┆           ┆           ┆ date      ┆   ┆         ┆           ┆ u32       ┆ u32       │\n",
       "╞════════════╪═══════════╪═══════════╪═══════════╪═══╪═════════╪═══════════╪═══════════╪═══════════╡\n",
       "│ Geronimo   ┆ [\"Geronim ┆ [\"Bill    ┆ 2008-08-0 ┆ … ┆ 140.0   ┆ 5.58      ┆ 1         ┆ 1         │\n",
       "│ Stilton    ┆ o         ┆ Lobely\"]  ┆ 4         ┆   ┆         ┆           ┆           ┆           │\n",
       "│ #11 & #12  ┆ Stilton\"] ┆           ┆           ┆   ┆         ┆           ┆           ┆           │\n",
       "│ The        ┆ [\"Rick    ┆ [\"Robbie  ┆ 2018-05-0 ┆ … ┆ 788.0   ┆ 9.77      ┆ 1         ┆ 1         │\n",
       "│ Burning    ┆ Riordan\"] ┆ Daymond\"] ┆ 1         ┆   ┆         ┆           ┆           ┆           │\n",
       "│ Maze       ┆           ┆           ┆           ┆   ┆         ┆           ┆           ┆           │\n",
       "│ The Deep   ┆ [\"Jeff    ┆ [\"Dan     ┆ 2020-11-0 ┆ … ┆ 123.0   ┆ 4.89      ┆ 1         ┆ 1         │\n",
       "│ End        ┆ Kinney\"]  ┆ Russell\"] ┆ 6         ┆   ┆         ┆           ┆           ┆           │\n",
       "│ Daughter   ┆ [\"Rick    ┆ [\"Soneela ┆ 2021-10-0 ┆ … ┆ 676.0   ┆ 7.33      ┆ 1         ┆ 1         │\n",
       "│ of the     ┆ Riordan\"] ┆ Nankani\"] ┆ 5         ┆   ┆         ┆           ┆           ┆           │\n",
       "│ Deep       ┆           ┆           ┆           ┆   ┆         ┆           ┆           ┆           │\n",
       "│ The        ┆ [\"Rick    ┆ [\"Jesse   ┆ 2010-01-1 ┆ … ┆ 600.0   ┆ 9.77      ┆ 1         ┆ 1         │\n",
       "│ Lightning  ┆ Riordan\"] ┆ Bernstein ┆ 3         ┆   ┆         ┆           ┆           ┆           │\n",
       "│ Thief:     ┆           ┆ \"]        ┆           ┆   ┆         ┆           ┆           ┆           │\n",
       "│ Percy      ┆           ┆           ┆           ┆   ┆         ┆           ┆           ┆           │\n",
       "│ Jacks…     ┆           ┆           ┆           ┆   ┆         ┆           ┆           ┆           │\n",
       "└────────────┴───────────┴───────────┴───────────┴───┴─────────┴───────────┴───────────┴───────────┘"
      ]
     },
     "execution_count": 64,
     "metadata": {},
     "output_type": "execute_result"
    }
   ],
   "source": [
    "cleaned.head(5)"
   ]
  },
  {
   "cell_type": "markdown",
   "metadata": {},
   "source": [
    "## Saving Data"
   ]
  },
  {
   "cell_type": "code",
   "execution_count": 65,
   "metadata": {},
   "outputs": [],
   "source": [
    "cleaned.write_parquet(\"./Data/Clean/audible_polars.parquet\", use_pyarrow=True)"
   ]
  },
  {
   "cell_type": "code",
   "execution_count": 66,
   "metadata": {},
   "outputs": [],
   "source": [
    "cleaned = pl.read_parquet(\"./Data/Clean/audible_polars.parquet\", use_pyarrow=True)"
   ]
  },
  {
   "cell_type": "code",
   "execution_count": 67,
   "metadata": {},
   "outputs": [
    {
     "data": {
      "text/html": [
       "<div><style>\n",
       ".dataframe > thead > tr,\n",
       ".dataframe > tbody > tr {\n",
       "  text-align: right;\n",
       "  white-space: pre-wrap;\n",
       "}\n",
       "</style>\n",
       "<small>shape: (87_489, 12)</small><table border=\"1\" class=\"dataframe\"><thead><tr><th>Title</th><th>Author</th><th>Narrator</th><th>Release Date</th><th>Language</th><th>Rating</th><th>Reviews</th><th>Price INR</th><th>Runtime</th><th>Price USD</th><th>Authors Count</th><th>Narrators Count</th></tr><tr><td>str</td><td>list[str]</td><td>list[str]</td><td>date</td><td>str</td><td>f32</td><td>i64</td><td>f64</td><td>f64</td><td>f64</td><td>u32</td><td>u32</td></tr></thead><tbody><tr><td>&quot;Geronimo Stilt…</td><td>[&quot;Geronimo Stilton&quot;]</td><td>[&quot;Bill Lobely&quot;]</td><td>2008-08-04</td><td>&quot;English&quot;</td><td>5.0</td><td>34</td><td>468.0</td><td>140.0</td><td>5.58</td><td>1</td><td>1</td></tr><tr><td>&quot;The Burning Ma…</td><td>[&quot;Rick Riordan&quot;]</td><td>[&quot;Robbie Daymond&quot;]</td><td>2018-05-01</td><td>&quot;English&quot;</td><td>4.5</td><td>41</td><td>820.0</td><td>788.0</td><td>9.77</td><td>1</td><td>1</td></tr><tr><td>&quot;The Deep End&quot;</td><td>[&quot;Jeff Kinney&quot;]</td><td>[&quot;Dan Russell&quot;]</td><td>2020-11-06</td><td>&quot;English&quot;</td><td>4.5</td><td>38</td><td>410.0</td><td>123.0</td><td>4.89</td><td>1</td><td>1</td></tr><tr><td>&quot;Daughter of th…</td><td>[&quot;Rick Riordan&quot;]</td><td>[&quot;Soneela Nankani&quot;]</td><td>2021-10-05</td><td>&quot;English&quot;</td><td>4.5</td><td>12</td><td>615.0</td><td>676.0</td><td>7.33</td><td>1</td><td>1</td></tr><tr><td>&quot;The Lightning …</td><td>[&quot;Rick Riordan&quot;]</td><td>[&quot;Jesse Bernstein&quot;]</td><td>2010-01-13</td><td>&quot;English&quot;</td><td>4.5</td><td>181</td><td>820.0</td><td>600.0</td><td>9.77</td><td>1</td><td>1</td></tr><tr><td>&quot;The Hunger Gam…</td><td>[&quot;Suzanne Collins&quot;]</td><td>[&quot;Tatiana Maslany&quot;]</td><td>2018-10-30</td><td>&quot;English&quot;</td><td>5.0</td><td>72</td><td>656.0</td><td>635.0</td><td>7.82</td><td>1</td><td>1</td></tr><tr><td>&quot;Quest for the …</td><td>[&quot;Winter Morgan&quot;]</td><td>[&quot;Luke Daniels&quot;]</td><td>2014-11-25</td><td>&quot;English&quot;</td><td>5.0</td><td>11</td><td>233.0</td><td>143.0</td><td>2.78</td><td>1</td><td>1</td></tr><tr><td>&quot;The Dark Proph…</td><td>[&quot;Rick Riordan&quot;]</td><td>[&quot;Robbie Daymond&quot;]</td><td>2017-05-02</td><td>&quot;English&quot;</td><td>5.0</td><td>50</td><td>820.0</td><td>752.0</td><td>9.77</td><td>1</td><td>1</td></tr><tr><td>&quot;Merlin Mission…</td><td>[&quot;Mary Pope Osborne&quot;]</td><td>[&quot;Mary Pope Osborne&quot;]</td><td>2017-05-02</td><td>&quot;English&quot;</td><td>5.0</td><td>5</td><td>1256.0</td><td>656.0</td><td>14.97</td><td>1</td><td>1</td></tr><tr><td>&quot;The Tyrant’s T…</td><td>[&quot;Rick Riordan&quot;]</td><td>[&quot;Robbie Daymond&quot;]</td><td>2019-09-24</td><td>&quot;English&quot;</td><td>5.0</td><td>58</td><td>820.0</td><td>802.0</td><td>9.77</td><td>1</td><td>1</td></tr><tr><td>&quot;The Titan&#x27;s Cu…</td><td>[&quot;Rick Riordan&quot;]</td><td>[&quot;Jesse Bernstein&quot;]</td><td>2010-01-14</td><td>&quot;English&quot;</td><td>4.5</td><td>130</td><td>820.0</td><td>528.0</td><td>9.77</td><td>1</td><td>1</td></tr><tr><td>&quot;Magic Tree Hou…</td><td>[&quot;Mary Pope Osborne&quot;]</td><td>[&quot;Mary Pope Osborne&quot;]</td><td>2011-08-24</td><td>&quot;English&quot;</td><td>5.0</td><td>6</td><td>1206.0</td><td>323.0</td><td>14.37</td><td>1</td><td>1</td></tr><tr><td>&hellip;</td><td>&hellip;</td><td>&hellip;</td><td>&hellip;</td><td>&hellip;</td><td>&hellip;</td><td>&hellip;</td><td>&hellip;</td><td>&hellip;</td><td>&hellip;</td><td>&hellip;</td><td>&hellip;</td></tr><tr><td>&quot;Tigers in the …</td><td>[&quot;Peter Matthiessen&quot;]</td><td>[&quot;George Guidall&quot;]</td><td>2004-08-05</td><td>&quot;English&quot;</td><td>5.0</td><td>1</td><td>702.0</td><td>294.0</td><td>8.37</td><td>1</td><td>1</td></tr><tr><td>&quot;In Morocco&quot;</td><td>[&quot;Edith Wharton&quot;]</td><td>[&quot;Anna Fields&quot;]</td><td>2008-10-17</td><td>&quot;English&quot;</td><td>null</td><td>null</td><td>585.0</td><td>293.0</td><td>6.97</td><td>1</td><td>1</td></tr><tr><td>&quot;Dear Bob and S…</td><td>[&quot;Matt Smith&quot;, &quot;Karen Smith&quot;]</td><td>[&quot;David Colacci&quot;, &quot;Susan Ericksen&quot;]</td><td>2017-12-26</td><td>&quot;English&quot;</td><td>null</td><td>null</td><td>1055.0</td><td>888.0</td><td>12.57</td><td>2</td><td>2</td></tr><tr><td>&quot;Journey into C…</td><td>[&quot;Colin Thubron&quot;]</td><td>[&quot;Jonathan Keeble&quot;]</td><td>2018-01-01</td><td>&quot;English&quot;</td><td>null</td><td>null</td><td>785.0</td><td>711.0</td><td>9.36</td><td>1</td><td>1</td></tr><tr><td>&quot;The Hills of A…</td><td>[&quot;Colin Thubron&quot;]</td><td>[&quot;Jonathan Keeble&quot;]</td><td>2017-12-01</td><td>&quot;English&quot;</td><td>null</td><td>null</td><td>679.0</td><td>412.0</td><td>8.09</td><td>1</td><td>1</td></tr><tr><td>&quot;The Bush&quot;</td><td>[&quot;Don Watson&quot;, &quot;Hamish Hamilton&quot;]</td><td>[&quot;Don Watson&quot;]</td><td>2017-10-13</td><td>&quot;English&quot;</td><td>null</td><td>null</td><td>1328.0</td><td>796.0</td><td>15.83</td><td>2</td><td>1</td></tr><tr><td>&quot;We Stood upon …</td><td>[&quot;Roger W.Thompson&quot;]</td><td>[&quot;John Mc Lain&quot;]</td><td>2017-05-02</td><td>&quot;English&quot;</td><td>null</td><td>null</td><td>351.0</td><td>355.0</td><td>4.18</td><td>1</td><td>1</td></tr><tr><td>&quot;Last Days of t…</td><td>[&quot;Chris Stewart&quot;]</td><td>[&quot;Chris Stewart&quot;]</td><td>2017-03-09</td><td>&quot;English&quot;</td><td>null</td><td>null</td><td>596.0</td><td>454.0</td><td>7.1</td><td>1</td><td>1</td></tr><tr><td>&quot;The Alps&quot;</td><td>[&quot;Stephen O&#x27;Shea&quot;]</td><td>[&quot;Robert Fass&quot;]</td><td>2017-02-21</td><td>&quot;English&quot;</td><td>null</td><td>null</td><td>820.0</td><td>607.0</td><td>9.77</td><td>1</td><td>1</td></tr><tr><td>&quot;The Innocents …</td><td>[&quot;Mark Twain&quot;]</td><td>[&quot;Flo Gibson&quot;]</td><td>2016-12-30</td><td>&quot;English&quot;</td><td>null</td><td>null</td><td>938.0</td><td>1144.0</td><td>11.18</td><td>1</td><td>1</td></tr><tr><td>&quot;A Sentimental …</td><td>[&quot;Laurence Sterne&quot;]</td><td>[&quot;Anton Lesser&quot;]</td><td>2011-02-23</td><td>&quot;English&quot;</td><td>null</td><td>null</td><td>680.0</td><td>248.0</td><td>8.1</td><td>1</td><td>1</td></tr><tr><td>&quot;Havana&quot;</td><td>[&quot;Mark Kurlansky&quot;]</td><td>[&quot;Fleet Cooper&quot;]</td><td>2017-03-07</td><td>&quot;English&quot;</td><td>null</td><td>null</td><td>569.0</td><td>361.0</td><td>6.78</td><td>1</td><td>1</td></tr></tbody></table></div>"
      ],
      "text/plain": [
       "shape: (87_489, 12)\n",
       "┌────────────┬───────────┬───────────┬───────────┬───┬─────────┬───────────┬───────────┬───────────┐\n",
       "│ Title      ┆ Author    ┆ Narrator  ┆ Release   ┆ … ┆ Runtime ┆ Price USD ┆ Authors   ┆ Narrators │\n",
       "│ ---        ┆ ---       ┆ ---       ┆ Date      ┆   ┆ ---     ┆ ---       ┆ Count     ┆ Count     │\n",
       "│ str        ┆ list[str] ┆ list[str] ┆ ---       ┆   ┆ f64     ┆ f64       ┆ ---       ┆ ---       │\n",
       "│            ┆           ┆           ┆ date      ┆   ┆         ┆           ┆ u32       ┆ u32       │\n",
       "╞════════════╪═══════════╪═══════════╪═══════════╪═══╪═════════╪═══════════╪═══════════╪═══════════╡\n",
       "│ Geronimo   ┆ [\"Geronim ┆ [\"Bill    ┆ 2008-08-0 ┆ … ┆ 140.0   ┆ 5.58      ┆ 1         ┆ 1         │\n",
       "│ Stilton    ┆ o         ┆ Lobely\"]  ┆ 4         ┆   ┆         ┆           ┆           ┆           │\n",
       "│ #11 & #12  ┆ Stilton\"] ┆           ┆           ┆   ┆         ┆           ┆           ┆           │\n",
       "│ The        ┆ [\"Rick    ┆ [\"Robbie  ┆ 2018-05-0 ┆ … ┆ 788.0   ┆ 9.77      ┆ 1         ┆ 1         │\n",
       "│ Burning    ┆ Riordan\"] ┆ Daymond\"] ┆ 1         ┆   ┆         ┆           ┆           ┆           │\n",
       "│ Maze       ┆           ┆           ┆           ┆   ┆         ┆           ┆           ┆           │\n",
       "│ The Deep   ┆ [\"Jeff    ┆ [\"Dan     ┆ 2020-11-0 ┆ … ┆ 123.0   ┆ 4.89      ┆ 1         ┆ 1         │\n",
       "│ End        ┆ Kinney\"]  ┆ Russell\"] ┆ 6         ┆   ┆         ┆           ┆           ┆           │\n",
       "│ Daughter   ┆ [\"Rick    ┆ [\"Soneela ┆ 2021-10-0 ┆ … ┆ 676.0   ┆ 7.33      ┆ 1         ┆ 1         │\n",
       "│ of the     ┆ Riordan\"] ┆ Nankani\"] ┆ 5         ┆   ┆         ┆           ┆           ┆           │\n",
       "│ Deep       ┆           ┆           ┆           ┆   ┆         ┆           ┆           ┆           │\n",
       "│ …          ┆ …         ┆ …         ┆ …         ┆ … ┆ …       ┆ …         ┆ …         ┆ …         │\n",
       "│ The Alps   ┆ [\"Stephen ┆ [\"Robert  ┆ 2017-02-2 ┆ … ┆ 607.0   ┆ 9.77      ┆ 1         ┆ 1         │\n",
       "│            ┆ O'Shea\"]  ┆ Fass\"]    ┆ 1         ┆   ┆         ┆           ┆           ┆           │\n",
       "│ The        ┆ [\"Mark    ┆ [\"Flo     ┆ 2016-12-3 ┆ … ┆ 1144.0  ┆ 11.18     ┆ 1         ┆ 1         │\n",
       "│ Innocents  ┆ Twain\"]   ┆ Gibson\"]  ┆ 0         ┆   ┆         ┆           ┆           ┆           │\n",
       "│ Abroad     ┆           ┆           ┆           ┆   ┆         ┆           ┆           ┆           │\n",
       "│ A Sentimen ┆ [\"Laurenc ┆ [\"Anton   ┆ 2011-02-2 ┆ … ┆ 248.0   ┆ 8.1       ┆ 1         ┆ 1         │\n",
       "│ tal        ┆ e         ┆ Lesser\"]  ┆ 3         ┆   ┆         ┆           ┆           ┆           │\n",
       "│ Journey    ┆ Sterne\"]  ┆           ┆           ┆   ┆         ┆           ┆           ┆           │\n",
       "│ Havana     ┆ [\"Mark    ┆ [\"Fleet   ┆ 2017-03-0 ┆ … ┆ 361.0   ┆ 6.78      ┆ 1         ┆ 1         │\n",
       "│            ┆ Kurlansky ┆ Cooper\"]  ┆ 7         ┆   ┆         ┆           ┆           ┆           │\n",
       "│            ┆ \"]        ┆           ┆           ┆   ┆         ┆           ┆           ┆           │\n",
       "└────────────┴───────────┴───────────┴───────────┴───┴─────────┴───────────┴───────────┴───────────┘"
      ]
     },
     "execution_count": 67,
     "metadata": {},
     "output_type": "execute_result"
    }
   ],
   "source": [
    "cleaned"
   ]
  }
 ],
 "metadata": {
  "kernelspec": {
   "display_name": "Python 3",
   "language": "python",
   "name": "python3"
  },
  "language_info": {
   "codemirror_mode": {
    "name": "ipython",
    "version": 3
   },
   "file_extension": ".py",
   "mimetype": "text/x-python",
   "name": "python",
   "nbconvert_exporter": "python",
   "pygments_lexer": "ipython3",
   "version": "3.12.1"
  }
 },
 "nbformat": 4,
 "nbformat_minor": 2
}

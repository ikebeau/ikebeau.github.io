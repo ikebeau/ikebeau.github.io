{
 "cells": [
  {
   "cell_type": "markdown",
   "metadata": {},
   "source": [
    "# Audible Data"
   ]
  },
  {
   "cell_type": "markdown",
   "metadata": {},
   "source": [
    "## Import & Data Call"
   ]
  },
  {
   "cell_type": "code",
   "execution_count": 1,
   "metadata": {},
   "outputs": [],
   "source": [
    "import pandas as pd\n",
    "from bs4 import BeautifulSoup\n",
    "from selenium import webdriver\n",
    "from selenium.webdriver.common.by import By\n",
    "from selenium.webdriver.chrome.service import Service\n",
    "from selenium.common.exceptions import NoSuchElementException\n",
    "from webdriver_manager.chrome import ChromeDriverManager\n",
    "import re\n",
    "import numpy as np"
   ]
  },
  {
   "cell_type": "code",
   "execution_count": 2,
   "metadata": {},
   "outputs": [],
   "source": [
    "df = pd.read_parquet(\"./Data/Raw/audible_uncleaned.parquet\")"
   ]
  },
  {
   "cell_type": "markdown",
   "metadata": {},
   "source": [
    "## Webscraping USD to INR Exchange Rate"
   ]
  },
  {
   "cell_type": "code",
   "execution_count": 3,
   "metadata": {},
   "outputs": [],
   "source": [
    "desired = 'USD'\n",
    "origin = 'INR'\n",
    "weblink = f'https://www.xe.com/currencyconverter/convert/?Amount=1&From={origin}&To={desired}'\n",
    "driver = webdriver.Chrome(service=Service(ChromeDriverManager().install()))\n",
    "driver.get(weblink)\n",
    "soup = BeautifulSoup(driver.page_source, 'html.parser')\n",
    "raw_text = soup.find('p', {'class': 'sc-423c2a5f-1 gPUWGS'}).text.strip()\n",
    "conversion_rate = float(re.findall(r'\\d+\\.\\d+', raw_text)[0])\n",
    "driver.quit()"
   ]
  },
  {
   "cell_type": "code",
   "execution_count": 4,
   "metadata": {},
   "outputs": [
    {
     "data": {
      "text/html": [
       "<div>\n",
       "<style scoped>\n",
       "    .dataframe tbody tr th:only-of-type {\n",
       "        vertical-align: middle;\n",
       "    }\n",
       "\n",
       "    .dataframe tbody tr th {\n",
       "        vertical-align: top;\n",
       "    }\n",
       "\n",
       "    .dataframe thead th {\n",
       "        text-align: right;\n",
       "    }\n",
       "</style>\n",
       "<table border=\"1\" class=\"dataframe\">\n",
       "  <thead>\n",
       "    <tr style=\"text-align: right;\">\n",
       "      <th></th>\n",
       "      <th>name</th>\n",
       "      <th>author</th>\n",
       "      <th>narrator</th>\n",
       "      <th>time</th>\n",
       "      <th>releasedate</th>\n",
       "      <th>language</th>\n",
       "      <th>stars</th>\n",
       "      <th>price</th>\n",
       "    </tr>\n",
       "  </thead>\n",
       "  <tbody>\n",
       "    <tr>\n",
       "      <th>0</th>\n",
       "      <td>Geronimo Stilton #11 &amp; #12</td>\n",
       "      <td>Writtenby:GeronimoStilton</td>\n",
       "      <td>Narratedby:BillLobely</td>\n",
       "      <td>2 hrs and 20 mins</td>\n",
       "      <td>04-08-08</td>\n",
       "      <td>English</td>\n",
       "      <td>5 out of 5 stars34 ratings</td>\n",
       "      <td>468.00</td>\n",
       "    </tr>\n",
       "    <tr>\n",
       "      <th>1</th>\n",
       "      <td>The Burning Maze</td>\n",
       "      <td>Writtenby:RickRiordan</td>\n",
       "      <td>Narratedby:RobbieDaymond</td>\n",
       "      <td>13 hrs and 8 mins</td>\n",
       "      <td>01-05-18</td>\n",
       "      <td>English</td>\n",
       "      <td>4.5 out of 5 stars41 ratings</td>\n",
       "      <td>820.00</td>\n",
       "    </tr>\n",
       "    <tr>\n",
       "      <th>2</th>\n",
       "      <td>The Deep End</td>\n",
       "      <td>Writtenby:JeffKinney</td>\n",
       "      <td>Narratedby:DanRussell</td>\n",
       "      <td>2 hrs and 3 mins</td>\n",
       "      <td>06-11-20</td>\n",
       "      <td>English</td>\n",
       "      <td>4.5 out of 5 stars38 ratings</td>\n",
       "      <td>410.00</td>\n",
       "    </tr>\n",
       "  </tbody>\n",
       "</table>\n",
       "</div>"
      ],
      "text/plain": [
       "                         name                     author  \\\n",
       "0  Geronimo Stilton #11 & #12  Writtenby:GeronimoStilton   \n",
       "1            The Burning Maze      Writtenby:RickRiordan   \n",
       "2                The Deep End       Writtenby:JeffKinney   \n",
       "\n",
       "                   narrator               time releasedate language  \\\n",
       "0     Narratedby:BillLobely  2 hrs and 20 mins    04-08-08  English   \n",
       "1  Narratedby:RobbieDaymond  13 hrs and 8 mins    01-05-18  English   \n",
       "2     Narratedby:DanRussell   2 hrs and 3 mins    06-11-20  English   \n",
       "\n",
       "                          stars   price  \n",
       "0    5 out of 5 stars34 ratings  468.00  \n",
       "1  4.5 out of 5 stars41 ratings  820.00  \n",
       "2  4.5 out of 5 stars38 ratings  410.00  "
      ]
     },
     "execution_count": 4,
     "metadata": {},
     "output_type": "execute_result"
    }
   ],
   "source": [
    "df.head(3)"
   ]
  },
  {
   "cell_type": "markdown",
   "metadata": {},
   "source": [
    "## Cleaning Data"
   ]
  },
  {
   "cell_type": "code",
   "execution_count": 5,
   "metadata": {},
   "outputs": [],
   "source": [
    "def extract_time(time_str):\n",
    "    time_str = time_str.lower()\n",
    "    if 'lethan1ute' in time_str or 'less than 1 minute' in time_str:\n",
    "        return 0, 0.5\n",
    "    hours = re.search(r'(\\d+)\\s*hr', time_str)\n",
    "    minutes = re.search(r'(\\d+)\\s*min', time_str)\n",
    "    hours = float(hours.group(1)) if hours else 0\n",
    "    minutes = float(minutes.group(1)) if minutes else 0\n",
    "    return hours, minutes\n"
   ]
  },
  {
   "cell_type": "code",
   "execution_count": 6,
   "metadata": {},
   "outputs": [],
   "source": [
    "cleaned = df\\\n",
    "        .copy().assign(\n",
    "            \n",
    "            author=lambda x: x['author']\n",
    "                .str.replace(\"Writtenby:\", \"\", regex=True)\n",
    "                .str.replace(r'([a-z])([A-Z])', r'\\1 \\2', regex=True)\n",
    "                .str.split(\",\"),\n",
    "\n",
    "            narrator=lambda x: x['narrator']\n",
    "                .str.replace(\"Narratedby:\", \"\", regex=True)\n",
    "                .str.replace(r'([a-z])([A-Z])', r'\\1 \\2', regex=True)\n",
    "                .str.split(\",\"),\n",
    "\n",
    "            language=lambda x: x['language'].str.title(),\n",
    "\n",
    "            releasedate=lambda x: pd.to_datetime(x['releasedate'], format='%d-%m-%y'),\n",
    "            \n",
    "            Rating=lambda x: x['stars']\n",
    "                .str.replace(r' rating|out of 5 star|s', '', regex=True)\n",
    "                .where(x['stars'] != 'Not rated yet', np.nan)\n",
    "                .str.split(\" \", n=2, expand=True)[0].astype(pd.Float32Dtype()),\n",
    "                \n",
    "            Reviews=lambda x: x['stars']\n",
    "                .str.replace(r' rating|out of 5 star|s|,', '', regex=True)\n",
    "                .where(x['stars'] != 'Not rated yet', np.nan)\n",
    "                .str.split(\" \", n=2, expand=True)[1].astype(pd.Int64Dtype()),\n",
    "            \n",
    "            Runtime=lambda x: ((x['time'].apply(lambda y: extract_time(y)[0])) * 60 +\n",
    "                               x['time'].apply(lambda y: extract_time(y)[1])),\n",
    "\n",
    "            \n",
    "            price=lambda x: x['price']\n",
    "                .str.replace(\",\", \"\")\n",
    "                .str.replace(\"Free\", \"0\")\n",
    "                .astype(pd.Float64Dtype()),\n",
    "            \n",
    "            usd=lambda x: (x[\"price\"]\n",
    "                .astype(str)                       \n",
    "                .str.replace(\",\", \"\")\n",
    "                .str.replace(\"Free\", \"0\")\n",
    "                .replace(\"nan\", \"0\")\n",
    "                .fillna(\"0\")\n",
    "                .astype(float)\n",
    "                * conversion_rate).round(2))\\\n",
    "        .drop(['stars', 'time'], axis=1)\\\n",
    "        .rename(columns={\n",
    "                    \"name\": \"Title\",\n",
    "                    \"author\": \"Author\",\n",
    "                    \"narrator\": \"Narrator\",\n",
    "                    \"releasedate\": \"Release Date\",\n",
    "                    \"language\": \"Language\",\n",
    "                    \"price\": \"INR Price\",\n",
    "                    \"usd\": \"USD Price\"})"
   ]
  },
  {
   "cell_type": "markdown",
   "metadata": {},
   "source": [
    "## Saving Data"
   ]
  },
  {
   "cell_type": "code",
   "execution_count": 7,
   "metadata": {},
   "outputs": [],
   "source": [
    "cleaned.to_parquet(\"./Data/Clean/audible_pandas.parquet\")"
   ]
  }
 ],
 "metadata": {
  "kernelspec": {
   "display_name": "Python 3",
   "language": "python",
   "name": "python3"
  },
  "language_info": {
   "codemirror_mode": {
    "name": "ipython",
    "version": 3
   },
   "file_extension": ".py",
   "mimetype": "text/x-python",
   "name": "python",
   "nbconvert_exporter": "python",
   "pygments_lexer": "ipython3",
   "version": "3.12.1"
  }
 },
 "nbformat": 4,
 "nbformat_minor": 2
}

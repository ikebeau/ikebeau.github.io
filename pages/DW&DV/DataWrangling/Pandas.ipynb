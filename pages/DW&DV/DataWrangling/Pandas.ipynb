{
 "cells": [
  {
   "cell_type": "markdown",
   "metadata": {},
   "source": [
    "# Audible Data"
   ]
  },
  {
   "cell_type": "markdown",
   "metadata": {},
   "source": [
    "## Import & Data Call"
   ]
  },
  {
   "cell_type": "code",
   "execution_count": 1,
   "metadata": {},
   "outputs": [],
   "source": [
    "import pandas as pd\n",
    "from bs4 import BeautifulSoup\n",
    "from selenium import webdriver\n",
    "from selenium.webdriver.common.by import By\n",
    "from selenium.webdriver.chrome.service import Service\n",
    "from selenium.common.exceptions import NoSuchElementException\n",
    "from webdriver_manager.chrome import ChromeDriverManager\n",
    "import re\n",
    "import numpy as np"
   ]
  },
  {
   "cell_type": "code",
   "execution_count": 2,
   "metadata": {},
   "outputs": [],
   "source": [
    "df = pd.read_parquet(\"./Data/Raw/audible_uncleaned.parquet\")"
   ]
  },
  {
   "cell_type": "markdown",
   "metadata": {},
   "source": [
    "## Webscraping USD to INR Exchange Rate"
   ]
  },
  {
   "cell_type": "code",
   "execution_count": 3,
   "metadata": {},
   "outputs": [],
   "source": [
    "desired = 'USD'\n",
    "origin = 'INR'\n",
    "weblink = f'https://www.xe.com/currencyconverter/convert/?Amount=1&From={origin}&To={desired}'\n",
    "driver = webdriver.Chrome(service=Service(ChromeDriverManager().install()))\n",
    "driver.get(weblink)\n",
    "soup = BeautifulSoup(driver.page_source, 'html.parser')\n",
    "raw_text = soup.find('p', {'class': 'sc-423c2a5f-1 gPUWGS'}).text.strip()\n",
    "conversion_rate = float(re.findall(r'\\d+\\.\\d+', raw_text)[0])\n",
    "driver.quit()"
   ]
  },
  {
   "cell_type": "code",
   "execution_count": 4,
   "metadata": {},
   "outputs": [
    {
     "data": {
      "text/html": [
       "<div>\n",
       "<style scoped>\n",
       "    .dataframe tbody tr th:only-of-type {\n",
       "        vertical-align: middle;\n",
       "    }\n",
       "\n",
       "    .dataframe tbody tr th {\n",
       "        vertical-align: top;\n",
       "    }\n",
       "\n",
       "    .dataframe thead th {\n",
       "        text-align: right;\n",
       "    }\n",
       "</style>\n",
       "<table border=\"1\" class=\"dataframe\">\n",
       "  <thead>\n",
       "    <tr style=\"text-align: right;\">\n",
       "      <th></th>\n",
       "      <th>name</th>\n",
       "      <th>author</th>\n",
       "      <th>narrator</th>\n",
       "      <th>time</th>\n",
       "      <th>releasedate</th>\n",
       "      <th>language</th>\n",
       "      <th>stars</th>\n",
       "      <th>price</th>\n",
       "    </tr>\n",
       "  </thead>\n",
       "  <tbody>\n",
       "    <tr>\n",
       "      <th>0</th>\n",
       "      <td>Geronimo Stilton #11 &amp; #12</td>\n",
       "      <td>Writtenby:GeronimoStilton</td>\n",
       "      <td>Narratedby:BillLobely</td>\n",
       "      <td>2 hrs and 20 mins</td>\n",
       "      <td>04-08-08</td>\n",
       "      <td>English</td>\n",
       "      <td>5 out of 5 stars34 ratings</td>\n",
       "      <td>468.00</td>\n",
       "    </tr>\n",
       "    <tr>\n",
       "      <th>1</th>\n",
       "      <td>The Burning Maze</td>\n",
       "      <td>Writtenby:RickRiordan</td>\n",
       "      <td>Narratedby:RobbieDaymond</td>\n",
       "      <td>13 hrs and 8 mins</td>\n",
       "      <td>01-05-18</td>\n",
       "      <td>English</td>\n",
       "      <td>4.5 out of 5 stars41 ratings</td>\n",
       "      <td>820.00</td>\n",
       "    </tr>\n",
       "    <tr>\n",
       "      <th>2</th>\n",
       "      <td>The Deep End</td>\n",
       "      <td>Writtenby:JeffKinney</td>\n",
       "      <td>Narratedby:DanRussell</td>\n",
       "      <td>2 hrs and 3 mins</td>\n",
       "      <td>06-11-20</td>\n",
       "      <td>English</td>\n",
       "      <td>4.5 out of 5 stars38 ratings</td>\n",
       "      <td>410.00</td>\n",
       "    </tr>\n",
       "  </tbody>\n",
       "</table>\n",
       "</div>"
      ],
      "text/plain": [
       "                         name                     author  \\\n",
       "0  Geronimo Stilton #11 & #12  Writtenby:GeronimoStilton   \n",
       "1            The Burning Maze      Writtenby:RickRiordan   \n",
       "2                The Deep End       Writtenby:JeffKinney   \n",
       "\n",
       "                   narrator               time releasedate language  \\\n",
       "0     Narratedby:BillLobely  2 hrs and 20 mins    04-08-08  English   \n",
       "1  Narratedby:RobbieDaymond  13 hrs and 8 mins    01-05-18  English   \n",
       "2     Narratedby:DanRussell   2 hrs and 3 mins    06-11-20  English   \n",
       "\n",
       "                          stars   price  \n",
       "0    5 out of 5 stars34 ratings  468.00  \n",
       "1  4.5 out of 5 stars41 ratings  820.00  \n",
       "2  4.5 out of 5 stars38 ratings  410.00  "
      ]
     },
     "execution_count": 4,
     "metadata": {},
     "output_type": "execute_result"
    }
   ],
   "source": [
    "df.head(3)"
   ]
  },
  {
   "cell_type": "markdown",
   "metadata": {},
   "source": [
    "## Cleaning Data"
   ]
  },
  {
   "cell_type": "code",
   "execution_count": 5,
   "metadata": {},
   "outputs": [],
   "source": [
    "def extract_time(time_str):\n",
    "    time_str = time_str.lower()\n",
    "    if 'lethan1ute' in time_str or 'less than 1 minute' in time_str:\n",
    "        return 0, 0.5\n",
    "    hours = re.search(r'(\\d+)\\s*hr', time_str)\n",
    "    minutes = re.search(r'(\\d+)\\s*min', time_str)\n",
    "    hours = float(hours.group(1)) if hours else 0\n",
    "    minutes = float(minutes.group(1)) if minutes else 0\n",
    "    return hours, minutes\n"
   ]
  },
  {
   "cell_type": "code",
   "execution_count": 6,
   "metadata": {},
   "outputs": [],
   "source": [
    "cleaned = df\\\n",
    "        .copy().assign(\n",
    "            \n",
    "            author=lambda x: x['author']\n",
    "                .str.replace(\"Writtenby:\", \"\", regex=True)\n",
    "                .str.replace(r'([a-z])([A-Z])', r'\\1 \\2', regex=True)\n",
    "                .str.split(\",\"),\n",
    "\n",
    "            narrator=lambda x: x['narrator']\n",
    "                .str.replace(\"Narratedby:\", \"\", regex=True)\n",
    "                .str.replace(r'([a-z])([A-Z])', r'\\1 \\2', regex=True)\n",
    "                .str.split(\",\"),\n",
    "\n",
    "            language=lambda x: x['language'].str.title(),\n",
    "\n",
    "            releasedate=lambda x: pd.to_datetime(x['releasedate'], format='%d-%m-%y'),\n",
    "            \n",
    "            Rating=lambda x: x['stars']\n",
    "                .str.replace(r' rating|out of 5 star|s', '', regex=True)\n",
    "                .where(x['stars'] != 'Not rated yet', np.nan)\n",
    "                .str.split(\" \", n=2, expand=True)[0].astype(pd.Float32Dtype()),\n",
    "                \n",
    "            Reviews=lambda x: x['stars']\n",
    "                .str.replace(r' rating|out of 5 star|s|,', '', regex=True)\n",
    "                .where(x['stars'] != 'Not rated yet', np.nan)\n",
    "                .str.split(\" \", n=2, expand=True)[1].astype(pd.Int64Dtype()),\n",
    "            \n",
    "            Runtime=lambda x: ((x['time'].apply(lambda y: extract_time(y)[0])) * 60 +\n",
    "                               x['time'].apply(lambda y: extract_time(y)[1])),\n",
    "\n",
    "            \n",
    "            price=lambda x: x['price']\n",
    "                .str.replace(\",\", \"\")\n",
    "                .str.replace(\"Free\", \"0\")\n",
    "                .astype(pd.Float64Dtype()),\n",
    "            \n",
    "            usd=lambda x: (x[\"price\"]\n",
    "                .astype(str)                       \n",
    "                .str.replace(\",\", \"\")\n",
    "                .str.replace(\"Free\", \"0\")\n",
    "                .replace(\"nan\", \"0\")\n",
    "                .fillna(\"0\")\n",
    "                .astype(float)\n",
    "                * conversion_rate).round(2))\\\n",
    "        .drop(['stars', 'time'], axis=1)\\\n",
    "        .rename(columns={\n",
    "                    \"name\": \"Title\",\n",
    "                    \"author\": \"Author\",\n",
    "                    \"narrator\": \"Narrator\",\n",
    "                    \"releasedate\": \"Release Date\",\n",
    "                    \"language\": \"Language\",\n",
    "                    \"price\": \"INR Price\",\n",
    "                    \"usd\": \"USD Price\"})"
   ]
  },
  {
   "cell_type": "markdown",
   "metadata": {},
   "source": [
    "## Saving Data"
   ]
  },
  {
   "cell_type": "code",
   "execution_count": 7,
   "metadata": {},
   "outputs": [],
   "source": [
    "cleaned.to_parquet(\"./Data/Clean/audible_pandas.parquet\")"
   ]
  },
  {
   "cell_type": "markdown",
   "metadata": {},
   "source": [
    "# Names"
   ]
  },
  {
   "cell_type": "code",
   "execution_count": 204,
   "metadata": {},
   "outputs": [
    {
     "data": {
      "text/html": [
       "\n",
       "            <div id=\"nYdbBu\"></div>\n",
       "            <script type=\"text/javascript\" data-lets-plot-script=\"library\">\n",
       "                if(!window.letsPlotCallQueue) {\n",
       "                    window.letsPlotCallQueue = [];\n",
       "                }; \n",
       "                window.letsPlotCall = function(f) {\n",
       "                    window.letsPlotCallQueue.push(f);\n",
       "                };\n",
       "                (function() {\n",
       "                    var script = document.createElement(\"script\");\n",
       "                    script.type = \"text/javascript\";\n",
       "                    script.src = \"https://cdn.jsdelivr.net/gh/JetBrains/lets-plot@v4.2.0/js-package/distr/lets-plot.min.js\";\n",
       "                    script.onload = function() {\n",
       "                        window.letsPlotCall = function(f) {f();};\n",
       "                        window.letsPlotCallQueue.forEach(function(f) {f();});\n",
       "                        window.letsPlotCallQueue = [];\n",
       "                        \n",
       "                    };\n",
       "                    script.onerror = function(event) {\n",
       "                        window.letsPlotCall = function(f) {};    // noop\n",
       "                        window.letsPlotCallQueue = [];\n",
       "                        var div = document.createElement(\"div\");\n",
       "                        div.style.color = 'darkred';\n",
       "                        div.textContent = 'Error loading Lets-Plot JS';\n",
       "                        document.getElementById(\"nYdbBu\").appendChild(div);\n",
       "                    };\n",
       "                    var e = document.getElementById(\"nYdbBu\");\n",
       "                    e.appendChild(script);\n",
       "                })()\n",
       "            </script>\n",
       "            "
      ]
     },
     "metadata": {},
     "output_type": "display_data"
    }
   ],
   "source": [
    "import pandas as pd\n",
    "from lets_plot import *\n",
    "LetsPlot.setup_html()"
   ]
  },
  {
   "cell_type": "code",
   "execution_count": 206,
   "metadata": {},
   "outputs": [],
   "source": [
    "names = pd.read_csv('https://github.com/byuidatascience/data4names/raw/master/data-raw/names_year/names_year.csv')"
   ]
  },
  {
   "cell_type": "code",
   "execution_count": 234,
   "metadata": {},
   "outputs": [
    {
     "data": {
      "text/html": [
       "   <div id=\"JA1jS5\"></div>\n",
       "   <script type=\"text/javascript\" data-lets-plot-script=\"plot\">\n",
       "       (function() {\n",
       "           var plotSpec={\n",
       "\"data\":{\n",
       "\"x\":[1982.0,1983.0,1984.0,1985.0,1986.0,1987.0,1988.0,1989.0,1990.0,1991.0,1992.0,1993.0,1994.0,1995.0,1996.0,1997.0,1998.0,1999.0,2000.0,2001.0,2002.0,2003.0,2004.0,2005.0,2006.0,2007.0,2008.0,2009.0,2010.0,2011.0,2012.0,2013.0,2014.0,2015.0],\n",
       "\"y\":[11.0,12.0,133.0,188.0,439.0,576.0,756.0,968.0,1189.0,1481.0,1748.0,1879.0,2105.0,2511.0,2802.0,3052.0,3801.0,4576.0,4491.0,4616.0,4979.0,5448.0,5386.5,5861.0,5984.0,6041.0,6290.0,7210.0,6085.0,6040.0,5607.0,5103.0,4531.0,4343.0]\n",
       "},\n",
       "\"mapping\":{\n",
       "\"x\":\"x\",\n",
       "\"y\":\"y\"\n",
       "},\n",
       "\"data_meta\":{\n",
       "},\n",
       "\"kind\":\"plot\",\n",
       "\"scales\":[],\n",
       "\"layers\":[{\n",
       "\"geom\":\"line\",\n",
       "\"mapping\":{\n",
       "},\n",
       "\"data_meta\":{\n",
       "},\n",
       "\"data\":{\n",
       "}\n",
       "}],\n",
       "\"metainfo_list\":[]\n",
       "};\n",
       "           var plotContainer = document.getElementById(\"JA1jS5\");\n",
       "           window.letsPlotCall(function() {{\n",
       "               LetsPlot.buildPlotFromProcessedSpecs(plotSpec, -1, -1, plotContainer);\n",
       "           }});\n",
       "       })();    \n",
       "   </script>"
      ],
      "text/plain": [
       "<lets_plot.plot.core.PlotSpec at 0x2629d791010>"
      ]
     },
     "execution_count": 234,
     "metadata": {},
     "output_type": "execute_result"
    }
   ],
   "source": [
    "Isaac = names[names['name'] == 'Kaylee']\n",
    "ggplot(Isaac, aes(y = Isaac['Total'], x = Isaac['year'])) + \\\n",
    "    geom_line()\n"
   ]
  },
  {
   "cell_type": "code",
   "execution_count": 212,
   "metadata": {},
   "outputs": [
    {
     "data": {
      "text/html": [
       "   <div id=\"4IRz9F\"></div>\n",
       "   <script type=\"text/javascript\" data-lets-plot-script=\"plot\">\n",
       "       (function() {\n",
       "           var plotSpec={\n",
       "\"data\":{\n",
       "\"x\":[1984.0,1985.0,1986.0,1987.0,1988.0,1989.0,1990.0,1991.0,1992.0,1993.0,1994.0,1995.0,1996.0,1998.0,1999.0],\n",
       "\"y\":[5.0,26.0,41.0,66.0,80.0,134.0,113.0,76.0,69.0,37.0,32.0,20.0,5.0,11.0,11.0]\n",
       "},\n",
       "\"mapping\":{\n",
       "\"x\":\"x\",\n",
       "\"y\":\"y\"\n",
       "},\n",
       "\"data_meta\":{\n",
       "},\n",
       "\"kind\":\"plot\",\n",
       "\"scales\":[],\n",
       "\"layers\":[{\n",
       "\"geom\":\"line\",\n",
       "\"mapping\":{\n",
       "},\n",
       "\"data_meta\":{\n",
       "},\n",
       "\"data\":{\n",
       "}\n",
       "}],\n",
       "\"metainfo_list\":[]\n",
       "};\n",
       "           var plotContainer = document.getElementById(\"4IRz9F\");\n",
       "           window.letsPlotCall(function() {{\n",
       "               LetsPlot.buildPlotFromProcessedSpecs(plotSpec, -1, -1, plotContainer);\n",
       "           }});\n",
       "       })();    \n",
       "   </script>"
      ],
      "text/plain": [
       "<lets_plot.plot.core.PlotSpec at 0x262e1cb7200>"
      ]
     },
     "execution_count": 212,
     "metadata": {},
     "output_type": "execute_result"
    }
   ],
   "source": [
    "Brittnay = names[names['name'] == 'Brittnay']\n",
    "ggplot(Brittnay, aes(y = Brittnay['Total'], x = Brittnay['year'])) + \\\n",
    "    geom_line()\n"
   ]
  },
  {
   "cell_type": "code",
   "execution_count": 215,
   "metadata": {},
   "outputs": [
    {
     "data": {
      "text/html": [
       "   <div id=\"Vs3WGA\"></div>\n",
       "   <script type=\"text/javascript\" data-lets-plot-script=\"plot\">\n",
       "       (function() {\n",
       "           var plotSpec={\n",
       "\"data\":{\n",
       "\"name\":[\"Martha\",\"Martha\",\"Martha\",\"Martha\",\"Martha\",\"Martha\",\"Martha\",\"Martha\",\"Martha\",\"Martha\",\"Martha\",\"Martha\",\"Martha\",\"Martha\",\"Martha\",\"Martha\",\"Martha\",\"Martha\",\"Martha\",\"Martha\",\"Martha\",\"Martha\",\"Martha\",\"Martha\",\"Martha\",\"Martha\",\"Martha\",\"Martha\",\"Martha\",\"Martha\",\"Martha\",\"Martha\",\"Martha\",\"Martha\",\"Martha\",\"Martha\",\"Martha\",\"Martha\",\"Martha\",\"Martha\",\"Martha\",\"Martha\",\"Martha\",\"Martha\",\"Martha\",\"Martha\",\"Martha\",\"Martha\",\"Martha\",\"Martha\",\"Martha\",\"Martha\",\"Martha\",\"Martha\",\"Martha\",\"Martha\",\"Martha\",\"Martha\",\"Martha\",\"Martha\",\"Martha\",\"Martha\",\"Martha\",\"Martha\",\"Martha\",\"Martha\",\"Martha\",\"Martha\",\"Martha\",\"Martha\",\"Martha\",\"Martha\",\"Martha\",\"Martha\",\"Martha\",\"Martha\",\"Martha\",\"Martha\",\"Martha\",\"Martha\",\"Martha\",\"Mary\",\"Mary\",\"Mary\",\"Mary\",\"Mary\",\"Mary\",\"Mary\",\"Mary\",\"Mary\",\"Mary\",\"Mary\",\"Mary\",\"Mary\",\"Mary\",\"Mary\",\"Mary\",\"Mary\",\"Mary\",\"Mary\",\"Mary\",\"Mary\",\"Mary\",\"Mary\",\"Mary\",\"Mary\",\"Mary\",\"Mary\",\"Mary\",\"Mary\",\"Mary\",\"Mary\",\"Mary\",\"Mary\",\"Mary\",\"Mary\",\"Mary\",\"Mary\",\"Mary\",\"Mary\",\"Mary\",\"Mary\",\"Mary\",\"Mary\",\"Mary\",\"Mary\",\"Mary\",\"Mary\",\"Mary\",\"Mary\",\"Mary\",\"Mary\",\"Mary\",\"Mary\",\"Mary\",\"Mary\",\"Mary\",\"Mary\",\"Mary\",\"Mary\",\"Mary\",\"Mary\",\"Mary\",\"Mary\",\"Mary\",\"Mary\",\"Mary\",\"Mary\",\"Mary\",\"Mary\",\"Mary\",\"Mary\",\"Mary\",\"Mary\",\"Mary\",\"Mary\",\"Mary\",\"Mary\",\"Mary\",\"Mary\",\"Mary\",\"Mary\",\"Paul\",\"Paul\",\"Paul\",\"Paul\",\"Paul\",\"Paul\",\"Paul\",\"Paul\",\"Paul\",\"Paul\",\"Paul\",\"Paul\",\"Paul\",\"Paul\",\"Paul\",\"Paul\",\"Paul\",\"Paul\",\"Paul\",\"Paul\",\"Paul\",\"Paul\",\"Paul\",\"Paul\",\"Paul\",\"Paul\",\"Paul\",\"Paul\",\"Paul\",\"Paul\",\"Paul\",\"Paul\",\"Paul\",\"Paul\",\"Paul\",\"Paul\",\"Paul\",\"Paul\",\"Paul\",\"Paul\",\"Paul\",\"Paul\",\"Paul\",\"Paul\",\"Paul\",\"Paul\",\"Paul\",\"Paul\",\"Paul\",\"Paul\",\"Paul\",\"Paul\",\"Paul\",\"Paul\",\"Paul\",\"Paul\",\"Paul\",\"Paul\",\"Paul\",\"Paul\",\"Paul\",\"Paul\",\"Paul\",\"Paul\",\"Paul\",\"Paul\",\"Paul\",\"Paul\",\"Paul\",\"Paul\",\"Paul\",\"Paul\",\"Paul\",\"Paul\",\"Paul\",\"Paul\",\"Paul\",\"Paul\",\"Paul\",\"Paul\",\"Paul\",\"Peter\",\"Peter\",\"Peter\",\"Peter\",\"Peter\",\"Peter\",\"Peter\",\"Peter\",\"Peter\",\"Peter\",\"Peter\",\"Peter\",\"Peter\",\"Peter\",\"Peter\",\"Peter\",\"Peter\",\"Peter\",\"Peter\",\"Peter\",\"Peter\",\"Peter\",\"Peter\",\"Peter\",\"Peter\",\"Peter\",\"Peter\",\"Peter\",\"Peter\",\"Peter\",\"Peter\",\"Peter\",\"Peter\",\"Peter\",\"Peter\",\"Peter\",\"Peter\",\"Peter\",\"Peter\",\"Peter\",\"Peter\",\"Peter\",\"Peter\",\"Peter\",\"Peter\",\"Peter\",\"Peter\",\"Peter\",\"Peter\",\"Peter\",\"Peter\",\"Peter\",\"Peter\",\"Peter\",\"Peter\",\"Peter\",\"Peter\",\"Peter\",\"Peter\",\"Peter\",\"Peter\",\"Peter\",\"Peter\",\"Peter\",\"Peter\",\"Peter\",\"Peter\",\"Peter\",\"Peter\",\"Peter\",\"Peter\",\"Peter\",\"Peter\",\"Peter\",\"Peter\",\"Peter\",\"Peter\",\"Peter\",\"Peter\",\"Peter\",\"Peter\"],\n",
       "\"year\":[1920.0,1921.0,1922.0,1923.0,1924.0,1925.0,1926.0,1927.0,1928.0,1929.0,1930.0,1931.0,1932.0,1933.0,1934.0,1935.0,1936.0,1937.0,1938.0,1939.0,1940.0,1941.0,1942.0,1943.0,1944.0,1945.0,1946.0,1947.0,1948.0,1949.0,1950.0,1951.0,1952.0,1953.0,1954.0,1955.0,1956.0,1957.0,1958.0,1959.0,1960.0,1961.0,1962.0,1963.0,1964.0,1965.0,1966.0,1967.0,1968.0,1969.0,1970.0,1971.0,1972.0,1973.0,1974.0,1975.0,1976.0,1977.0,1978.0,1979.0,1980.0,1981.0,1982.0,1983.0,1984.0,1985.0,1986.0,1987.0,1988.0,1989.0,1990.0,1991.0,1992.0,1993.0,1994.0,1995.0,1996.0,1997.0,1998.0,1999.0,2000.0,1920.0,1921.0,1922.0,1923.0,1924.0,1925.0,1926.0,1927.0,1928.0,1929.0,1930.0,1931.0,1932.0,1933.0,1934.0,1935.0,1936.0,1937.0,1938.0,1939.0,1940.0,1941.0,1942.0,1943.0,1944.0,1945.0,1946.0,1947.0,1948.0,1949.0,1950.0,1951.0,1952.0,1953.0,1954.0,1955.0,1956.0,1957.0,1958.0,1959.0,1960.0,1961.0,1962.0,1963.0,1964.0,1965.0,1966.0,1967.0,1968.0,1969.0,1970.0,1971.0,1972.0,1973.0,1974.0,1975.0,1976.0,1977.0,1978.0,1979.0,1980.0,1981.0,1982.0,1983.0,1984.0,1985.0,1986.0,1987.0,1988.0,1989.0,1990.0,1991.0,1992.0,1993.0,1994.0,1995.0,1996.0,1997.0,1998.0,1999.0,2000.0,1920.0,1921.0,1922.0,1923.0,1924.0,1925.0,1926.0,1927.0,1928.0,1929.0,1930.0,1931.0,1932.0,1933.0,1934.0,1935.0,1936.0,1937.0,1938.0,1939.0,1940.0,1941.0,1942.0,1943.0,1944.0,1945.0,1946.0,1947.0,1948.0,1949.0,1950.0,1951.0,1952.0,1953.0,1954.0,1955.0,1956.0,1957.0,1958.0,1959.0,1960.0,1961.0,1962.0,1963.0,1964.0,1965.0,1966.0,1967.0,1968.0,1969.0,1970.0,1971.0,1972.0,1973.0,1974.0,1975.0,1976.0,1977.0,1978.0,1979.0,1980.0,1981.0,1982.0,1983.0,1984.0,1985.0,1986.0,1987.0,1988.0,1989.0,1990.0,1991.0,1992.0,1993.0,1994.0,1995.0,1996.0,1997.0,1998.0,1999.0,2000.0,1920.0,1921.0,1922.0,1923.0,1924.0,1925.0,1926.0,1927.0,1928.0,1929.0,1930.0,1931.0,1932.0,1933.0,1934.0,1935.0,1936.0,1937.0,1938.0,1939.0,1940.0,1941.0,1942.0,1943.0,1944.0,1945.0,1946.0,1947.0,1948.0,1949.0,1950.0,1951.0,1952.0,1953.0,1954.0,1955.0,1956.0,1957.0,1958.0,1959.0,1960.0,1961.0,1962.0,1963.0,1964.0,1965.0,1966.0,1967.0,1968.0,1969.0,1970.0,1971.0,1972.0,1973.0,1974.0,1975.0,1976.0,1977.0,1978.0,1979.0,1980.0,1981.0,1982.0,1983.0,1984.0,1985.0,1986.0,1987.0,1988.0,1989.0,1990.0,1991.0,1992.0,1993.0,1994.0,1995.0,1996.0,1997.0,1998.0,1999.0,2000.0],\n",
       "\"Total\":[8705.0,9254.0,9018.0,8731.0,9163.0,8757.0,8557.0,8088.5,8245.0,7381.5,7830.0,7248.5,7329.5,6905.0,7603.0,7383.5,7176.5,7645.0,8017.5,7956.5,8204.0,8250.5,9514.0,9700.0,9329.0,8744.0,9763.0,10651.0,10006.0,9508.0,9840.0,9598.0,9699.0,9262.0,8585.0,7930.0,7703.0,7365.0,6393.5,6439.0,5504.5,5712.0,5164.0,4879.0,4448.0,3793.0,3267.0,2708.0,2557.0,2399.0,2346.0,2167.0,1718.0,1698.0,1811.0,1768.0,1580.0,1572.0,1469.0,1420.0,1525.0,1549.0,1270.5,1166.0,969.5,1057.0,1134.0,1117.0,969.0,1049.5,1222.0,1096.0,955.5,1027.0,928.0,887.0,849.0,830.0,737.0,693.0,741.0,45928.5,49070.0,48514.0,45749.5,44981.0,45006.5,42416.5,43645.5,37597.5,36396.5,38872.5,34680.0,35923.5,32867.5,34809.5,32865.5,31045.0,33171.5,34026.5,32546.0,35422.5,35127.0,37619.0,40505.5,39509.5,38813.0,45337.5,51053.0,50828.0,47835.0,53791.0,48928.5,49898.5,45603.0,48678.5,46351.0,45111.0,43334.0,39392.0,39242.0,36910.5,33353.5,31908.5,31314.5,29094.0,25823.0,23328.5,20413.5,18096.5,16045.0,15333.0,14606.5,12914.5,11429.5,11398.0,9916.0,9941.5,9936.5,9057.5,9605.0,10730.5,10692.0,9912.5,9345.0,8916.5,8269.5,7938.5,7402.5,7992.5,8127.5,8308.0,8400.0,8454.0,7891.5,7746.0,7438.0,6946.0,6627.0,6434.0,6360.0,6184.0,10958.5,11251.5,10907.0,11341.5,11553.5,12626.5,12262.0,11203.0,9650.5,10022.5,10493.0,9812.0,11379.0,11324.5,10642.0,12450.5,11121.5,12269.0,12690.5,12685.5,13382.0,13725.5,15335.0,16520.5,16654.0,16997.0,16823.5,18934.0,17120.5,20309.0,21763.0,21399.0,22197.5,25497.0,25662.5,24818.5,24852.0,24897.5,21623.5,21464.5,21377.0,20980.5,20155.0,21904.5,19928.5,20051.5,18978.5,19168.5,18531.0,16884.0,17193.0,13902.0,13123.5,11327.5,9951.5,9554.0,9980.0,10191.0,9725.5,10428.5,10898.5,10694.5,9129.5,8733.0,9284.5,8774.5,8454.0,8112.0,8238.0,7494.5,7705.5,7150.5,6522.0,6477.0,5796.0,5413.0,4879.0,4748.0,4319.0,4015.0,3786.0,3479.0,3530.0,3143.5,3403.0,3510.0,3369.0,3355.0,2883.0,2858.5,3201.0,3251.0,3093.0,2694.5,3120.0,2865.0,3413.0,3706.0,3283.5,4289.0,4633.0,5039.0,5608.0,6582.0,5920.0,5450.0,5604.0,6449.0,8591.0,8050.0,7180.0,8366.0,9004.0,9581.0,8561.0,10073.0,9689.5,11321.0,10284.5,9555.0,10028.5,9545.0,9225.5,9577.0,8571.5,9907.0,8364.5,7626.5,8087.0,8133.0,7170.0,6854.0,5995.5,6479.0,5918.0,5128.5,5707.0,4721.0,5323.0,5425.5,6076.0,5296.0,5551.0,5611.0,4760.5,4743.5,5285.5,5018.0,5161.0,5042.5,4620.5,4866.5,4956.0,3934.5,4532.0,3928.5,3817.5,4069.0,3821.0,3377.0,3430.0,3137.0]\n",
       "},\n",
       "\"mapping\":{\n",
       "\"x\":\"year\",\n",
       "\"y\":\"Total\",\n",
       "\"color\":\"name\"\n",
       "},\n",
       "\"data_meta\":{\n",
       "},\n",
       "\"kind\":\"plot\",\n",
       "\"scales\":[],\n",
       "\"layers\":[{\n",
       "\"geom\":\"line\",\n",
       "\"mapping\":{\n",
       "},\n",
       "\"data_meta\":{\n",
       "},\n",
       "\"data\":{\n",
       "}\n",
       "}],\n",
       "\"metainfo_list\":[]\n",
       "};\n",
       "           var plotContainer = document.getElementById(\"Vs3WGA\");\n",
       "           window.letsPlotCall(function() {{\n",
       "               LetsPlot.buildPlotFromProcessedSpecs(plotSpec, -1, -1, plotContainer);\n",
       "           }});\n",
       "       })();    \n",
       "   </script>"
      ],
      "text/plain": [
       "<lets_plot.plot.core.PlotSpec at 0x262e1bfb380>"
      ]
     },
     "execution_count": 215,
     "metadata": {},
     "output_type": "execute_result"
    }
   ],
   "source": [
    "Apostles = names[(names['name'].isin(['Peter', 'Mary', 'Martha', 'Paul'])) & names['year'].between(1920, 2000)]\n",
    "ggplot(Apostles, aes(y = 'Total', x='year', color='name')) + \\\n",
    "    geom_line()"
   ]
  },
  {
   "cell_type": "code",
   "execution_count": 235,
   "metadata": {},
   "outputs": [
    {
     "data": {
      "text/html": [
       "   <div id=\"Ff2x0i\"></div>\n",
       "   <script type=\"text/javascript\" data-lets-plot-script=\"plot\">\n",
       "       (function() {\n",
       "           var plotSpec={\n",
       "\"data\":{\n",
       "\"name\":[\"Elvis\",\"Elvis\",\"Elvis\",\"Elvis\",\"Elvis\",\"Elvis\",\"Elvis\",\"Elvis\",\"Elvis\",\"Elvis\",\"Elvis\",\"Elvis\",\"Elvis\",\"Elvis\",\"Elvis\",\"Elvis\",\"Elvis\",\"Elvis\",\"Elvis\",\"Elvis\",\"Elvis\",\"Elvis\",\"Elvis\",\"Elvis\",\"Elvis\",\"Elvis\",\"Elvis\",\"Elvis\",\"Elvis\",\"Elvis\",\"Elvis\",\"Elvis\",\"Elvis\",\"Elvis\",\"Elvis\",\"Elvis\",\"Elvis\",\"Elvis\",\"Elvis\",\"Elvis\",\"Elvis\",\"Elvis\",\"Elvis\",\"Elvis\",\"Elvis\",\"Elvis\",\"Elvis\",\"Elvis\",\"Elvis\",\"Elvis\",\"Elvis\",\"Elvis\",\"Elvis\",\"Elvis\",\"Elvis\",\"Elvis\",\"Elvis\",\"Elvis\",\"Elvis\",\"Elvis\",\"Elvis\",\"Elvis\",\"Elvis\",\"Elvis\",\"Elvis\",\"Elvis\",\"Elvis\",\"Elvis\",\"Elvis\",\"Elvis\",\"Elvis\",\"Elvis\",\"Elvis\",\"Elvis\",\"Elvis\",\"Elvis\",\"Elvis\",\"Elvis\",\"Elvis\",\"Elvis\",\"Elvis\",\"Elvis\",\"Elvis\",\"Elvis\",\"Elvis\",\"Elvis\",\"Elvis\",\"Elvis\",\"Elvis\",\"Elvis\",\"Elvis\",\"Elvis\",\"Elvis\",\"Elvis\",\"Elvis\",\"Elvis\",\"Elvis\",\"Elvis\",\"Elvis\",\"Elvis\",\"Elvis\",\"Elvis\",\"Elvis\",\"Elvis\",\"Leia\",\"Leia\",\"Leia\",\"Leia\",\"Leia\",\"Leia\",\"Leia\",\"Leia\",\"Leia\",\"Leia\",\"Leia\",\"Leia\",\"Leia\",\"Leia\",\"Leia\",\"Leia\",\"Leia\",\"Leia\",\"Leia\",\"Leia\",\"Leia\",\"Leia\",\"Leia\",\"Leia\",\"Leia\",\"Leia\",\"Leia\",\"Leia\",\"Leia\",\"Leia\",\"Leia\",\"Leia\",\"Leia\",\"Leia\",\"Leia\",\"Leia\",\"Leia\",\"Leia\",\"Leia\",\"Leia\",\"Leia\",\"Leia\"],\n",
       "\"year\":[1912.0,1913.0,1914.0,1915.0,1916.0,1917.0,1918.0,1919.0,1920.0,1921.0,1922.0,1923.0,1924.0,1925.0,1926.0,1927.0,1928.0,1929.0,1930.0,1931.0,1932.0,1933.0,1934.0,1935.0,1936.0,1937.0,1938.0,1939.0,1940.0,1941.0,1942.0,1943.0,1944.0,1945.0,1946.0,1947.0,1948.0,1949.0,1950.0,1951.0,1952.0,1953.0,1954.0,1955.0,1956.0,1957.0,1958.0,1959.0,1960.0,1961.0,1962.0,1963.0,1964.0,1965.0,1966.0,1967.0,1968.0,1969.0,1970.0,1971.0,1972.0,1973.0,1974.0,1975.0,1976.0,1977.0,1978.0,1979.0,1980.0,1981.0,1982.0,1983.0,1984.0,1985.0,1986.0,1987.0,1988.0,1989.0,1990.0,1991.0,1992.0,1993.0,1994.0,1995.0,1996.0,1997.0,1998.0,1999.0,2000.0,2001.0,2002.0,2003.0,2004.0,2005.0,2006.0,2007.0,2008.0,2009.0,2010.0,2011.0,2012.0,2013.0,2014.0,2015.0,1963.0,1965.0,1967.0,1976.0,1977.0,1978.0,1979.0,1980.0,1981.0,1982.0,1983.0,1984.0,1985.0,1986.0,1987.0,1988.0,1989.0,1990.0,1991.0,1992.0,1993.0,1995.0,1996.0,1997.0,1998.0,1999.0,2000.0,2001.0,2002.0,2003.0,2004.0,2005.0,2006.0,2007.0,2008.0,2009.0,2010.0,2011.0,2012.0,2013.0,2014.0,2015.0],\n",
       "\"Total\":[20.0,6.0,28.0,42.5,41.0,50.0,67.0,73.0,53.0,69.0,86.0,87.0,37.0,58.0,63.0,39.0,78.0,64.0,55.0,48.0,31.0,32.0,50.0,25.0,33.0,28.0,37.0,49.0,51.0,30.0,30.0,28.0,28.0,30.0,29.0,41.0,19.0,17.0,35.0,12.0,26.0,5.0,12.0,26.0,389.0,575.0,337.0,251.0,206.0,148.0,131.0,99.0,83.0,129.0,77.0,126.0,91.0,110.0,86.0,81.0,67.0,106.0,104.0,71.0,102.0,252.0,317.0,224.0,180.0,168.0,108.0,131.0,95.0,157.0,123.0,155.0,140.0,203.0,150.0,155.0,138.0,205.0,146.0,176.0,152.0,167.0,181.0,315.0,286.0,226.0,279.0,223.0,233.0,178.0,213.0,304.0,276.0,193.0,139.0,166.0,128.0,132.0,123.0,130.0,6.0,5.0,6.0,6.0,34.0,73.0,60.0,99.0,71.0,39.0,73.0,35.0,23.0,24.0,30.0,21.0,18.0,24.0,19.0,21.0,26.0,36.0,19.0,46.0,43.0,60.0,62.0,77.0,91.0,74.0,90.0,158.0,215.0,230.0,243.0,282.0,280.0,298.0,361.0,470.0,547.0,718.0]\n",
       "},\n",
       "\"mapping\":{\n",
       "\"x\":\"year\",\n",
       "\"y\":\"Total\",\n",
       "\"color\":\"name\"\n",
       "},\n",
       "\"data_meta\":{\n",
       "},\n",
       "\"kind\":\"plot\",\n",
       "\"scales\":[],\n",
       "\"layers\":[{\n",
       "\"geom\":\"line\",\n",
       "\"mapping\":{\n",
       "},\n",
       "\"data_meta\":{\n",
       "},\n",
       "\"data\":{\n",
       "}\n",
       "}],\n",
       "\"metainfo_list\":[]\n",
       "};\n",
       "           var plotContainer = document.getElementById(\"Ff2x0i\");\n",
       "           window.letsPlotCall(function() {{\n",
       "               LetsPlot.buildPlotFromProcessedSpecs(plotSpec, -1, -1, plotContainer);\n",
       "           }});\n",
       "       })();    \n",
       "   </script>"
      ],
      "text/plain": [
       "<lets_plot.plot.core.PlotSpec at 0x2629d895cd0>"
      ]
     },
     "execution_count": 235,
     "metadata": {},
     "output_type": "execute_result"
    }
   ],
   "source": [
    "Famous = names[(names['name'].isin(['Elvis', 'Han', 'Leia']))]\n",
    "(ggplot(Famous, aes(x = 'year', y = 'Total', color='name')) + \n",
    "    geom_line())"
   ]
  },
  {
   "cell_type": "markdown",
   "metadata": {},
   "source": [
    "# Late Flights"
   ]
  },
  {
   "cell_type": "code",
   "execution_count": 248,
   "metadata": {},
   "outputs": [
    {
     "data": {
      "text/html": [
       "\n",
       "            <div id=\"yZ9g7d\"></div>\n",
       "            <script type=\"text/javascript\" data-lets-plot-script=\"library\">\n",
       "                if(!window.letsPlotCallQueue) {\n",
       "                    window.letsPlotCallQueue = [];\n",
       "                }; \n",
       "                window.letsPlotCall = function(f) {\n",
       "                    window.letsPlotCallQueue.push(f);\n",
       "                };\n",
       "                (function() {\n",
       "                    var script = document.createElement(\"script\");\n",
       "                    script.type = \"text/javascript\";\n",
       "                    script.src = \"https://cdn.jsdelivr.net/gh/JetBrains/lets-plot@v4.2.0/js-package/distr/lets-plot.min.js\";\n",
       "                    script.onload = function() {\n",
       "                        window.letsPlotCall = function(f) {f();};\n",
       "                        window.letsPlotCallQueue.forEach(function(f) {f();});\n",
       "                        window.letsPlotCallQueue = [];\n",
       "                        \n",
       "                    };\n",
       "                    script.onerror = function(event) {\n",
       "                        window.letsPlotCall = function(f) {};    // noop\n",
       "                        window.letsPlotCallQueue = [];\n",
       "                        var div = document.createElement(\"div\");\n",
       "                        div.style.color = 'darkred';\n",
       "                        div.textContent = 'Error loading Lets-Plot JS';\n",
       "                        document.getElementById(\"yZ9g7d\").appendChild(div);\n",
       "                    };\n",
       "                    var e = document.getElementById(\"yZ9g7d\");\n",
       "                    e.appendChild(script);\n",
       "                })()\n",
       "            </script>\n",
       "            "
      ]
     },
     "metadata": {},
     "output_type": "display_data"
    }
   ],
   "source": [
    "import pandas as pd\n",
    "import numpy as np\n",
    "from lets_plot import *\n",
    "LetsPlot.setup_html()"
   ]
  },
  {
   "cell_type": "code",
   "execution_count": 239,
   "metadata": {},
   "outputs": [],
   "source": [
    "df = pd.read_json(\"https://github.com/byuidatascience/data4missing/raw/master/data-raw/flights_missing/flights_missing.json\")"
   ]
  },
  {
   "cell_type": "code",
   "execution_count": null,
   "metadata": {},
   "outputs": [],
   "source": [
    "df"
   ]
  },
  {
   "cell_type": "code",
   "execution_count": 275,
   "metadata": {},
   "outputs": [
    {
     "data": {
      "text/plain": [
       "0      4598\n",
       "1       935\n",
       "2       895\n",
       "3      5415\n",
       "4       638\n",
       "       ... \n",
       "919      61\n",
       "920    1364\n",
       "921     256\n",
       "922    2372\n",
       "923     404\n",
       "Name: num_of_delays_nas, Length: 924, dtype: int64"
      ]
     },
     "execution_count": 275,
     "metadata": {},
     "output_type": "execute_result"
    }
   ],
   "source": [
    "df['num_of_delays_nas']#.unique()"
   ]
  },
  {
   "cell_type": "code",
   "execution_count": 276,
   "metadata": {},
   "outputs": [],
   "source": [
    "df = df.copy().assign(\n",
    "    airport_code = lambda x: x['airport_code'],\n",
    "    month = lambda x: x['month']\n",
    "        .replace({'Febuary': 'Februrary',\n",
    "                  'n/a': np.nan}),\n",
    "    num_of_delays_carrier = lambda x: x['num_of_delays_carrier']\n",
    "        .str.replace(r\"+\", \"\").astype(int),\n",
    "    num_of_delays_late_aircraft = lambda x: x['num_of_delays_late_aircraft']\n",
    "        .replace(-999, np.nan)\n",
    ")#['num_of_delays_carrier'].unique()"
   ]
  },
  {
   "cell_type": "code",
   "execution_count": 277,
   "metadata": {},
   "outputs": [
    {
     "name": "stdout",
     "output_type": "stream",
     "text": [
      "<class 'pandas.core.frame.DataFrame'>\n",
      "RangeIndex: 924 entries, 0 to 923\n",
      "Data columns (total 17 columns):\n",
      " #   Column                         Non-Null Count  Dtype  \n",
      "---  ------                         --------------  -----  \n",
      " 0   airport_code                   924 non-null    object \n",
      " 1   airport_name                   924 non-null    object \n",
      " 2   month                          897 non-null    object \n",
      " 3   year                           901 non-null    float64\n",
      " 4   num_of_flights_total           924 non-null    int64  \n",
      " 5   num_of_delays_carrier          924 non-null    int32  \n",
      " 6   num_of_delays_late_aircraft    884 non-null    float64\n",
      " 7   num_of_delays_nas              924 non-null    int64  \n",
      " 8   num_of_delays_security         924 non-null    int64  \n",
      " 9   num_of_delays_weather          924 non-null    int64  \n",
      " 10  num_of_delays_total            924 non-null    int64  \n",
      " 11  minutes_delayed_carrier        872 non-null    float64\n",
      " 12  minutes_delayed_late_aircraft  924 non-null    int64  \n",
      " 13  minutes_delayed_nas            893 non-null    float64\n",
      " 14  minutes_delayed_security       924 non-null    int64  \n",
      " 15  minutes_delayed_weather        924 non-null    int64  \n",
      " 16  minutes_delayed_total          924 non-null    int64  \n",
      "dtypes: float64(4), int32(1), int64(9), object(3)\n",
      "memory usage: 119.2+ KB\n"
     ]
    }
   ],
   "source": [
    "df.info()"
   ]
  },
  {
   "cell_type": "markdown",
   "metadata": {},
   "source": [
    "# Star Wars"
   ]
  },
  {
   "cell_type": "code",
   "execution_count": 23,
   "metadata": {},
   "outputs": [],
   "source": [
    "import pandas as pd \n",
    "import numpy as np\n",
    "from lets_plot import *\n",
    "LetsPlot.setup_html()"
   ]
  },
  {
   "cell_type": "code",
   "execution_count": 42,
   "metadata": {},
   "outputs": [],
   "source": [
    "df = pd.read_csv(\"https://github.com/fivethirtyeight/data/raw/master/star-wars-survey/StarWars.csv\", encoding='utf-8', skiprows=1)\n",
    "questions = pd.read_csv(\"https://github.com/fivethirtyeight/data/raw/master/star-wars-survey/StarWars.csv\", encoding='ISO-8859-1', skiprows=0).columns"
   ]
  },
  {
   "cell_type": "code",
   "execution_count": 203,
   "metadata": {},
   "outputs": [],
   "source": [
    "df = df\\\n",
    "    .copy()\\\n",
    "    .rename(columns={\"Unnamed: 0\": \"Id\",\n",
    "                          \"Response\": \"SeenStarWars\",\n",
    "                          \"Response.1\": \"StarWarsFan\",\n",
    "                          \"Star Wars: Episode I  The Phantom Menace\": \"EpI\",\n",
    "                          \"Star Wars: Episode II  Attack of the Clones\": \"EpII\",\n",
    "                          \"Star Wars: Episode III  Revenge of the Sith\": \"EpIII\",\n",
    "                          \"Star Wars: Episode IV  A New Hope\": \"EpIV\",\n",
    "                          \"Star Wars: Episode V The Empire Strikes Back\": \"EpV\",\n",
    "                          \"Star Wars: Episode VI Return of the Jedi\": \"EpVI\",\n",
    "                          \"Star Wars: Episode I  The Phantom Menace.1\": \"RankEpI\",\n",
    "                          \"Star Wars: Episode II  Attack of the Clones.1\": \"RankEpII\",\n",
    "                          \"Star Wars: Episode III  Revenge of the Sith.1\": \"RankEpIII\",\n",
    "                          \"Star Wars: Episode IV  A New Hope.1\": \"RankEpIV\",\n",
    "                          \"Star Wars: Episode V The Empire Strikes Back.1\": \"RankEpV\",\n",
    "                          \"Star Wars: Episode VI Return of the Jedi.1\": \"RankEpVI\",\n",
    "                          \"Han Solo\": \"RankHan\",\n",
    "                          \"Luke Skywalker\": \"RankLuke\",\n",
    "                          \"Princess Leia Organa\": \"RankLeia\",\n",
    "                          \"Anakin Skywalker\": \"RankAnakin\",\n",
    "                          \"Obi Wan Kenobi\": \"RankObiWan\",\n",
    "                          \"Emperor Palpatine\": \"RankPalp\",\n",
    "                          \"Darth Vader\": \"RankVader\",\n",
    "                          \"Lando Calrissian\": \"RankLando\",\n",
    "                          \"Boba Fett\": \"RankBoba\",\n",
    "                          \"C-3P0\": \"RankC-3PO\",\n",
    "                          \"R2 D2\": \"RankR2-D2\",\n",
    "                          \"Jar Jar Binks\": \"RankBinks\",\n",
    "                          \"Padme Amidala\": \"RankPadme\",\n",
    "                          \"Yoda\": \"RankYoda\",\n",
    "                          \"Response.2\": \"ShotFirst\",\n",
    "                          \"Response.3\": \"ExpandedUniverse\",\n",
    "                          \"Response.4\": \"FanExpandedUniverse\",\n",
    "                          \"Response.5\": \"StarTrek\",\n",
    "                          \"Response.6\": \"Sex\",\n",
    "                          \"Response.7\": \"AgeRange\",\n",
    "                          \"Response.8\": \"IncomeRange\",\n",
    "                          \"Response.9\": \"Education\",\n",
    "                          \"Response.10\": \"CensusRegion\"\n",
    "                          })"
   ]
  },
  {
   "cell_type": "code",
   "execution_count": 179,
   "metadata": {},
   "outputs": [],
   "source": [
    "final = df.assign(\n",
    "        **{col: lambda x, col=col: x[col].str.startswith(r\"Star|Yes\").replace({True: True, False: False, np.nan: False}) \n",
    "               for col in [\"ExpandedUniverse\", \"SeenStarWars\", \"StarWarsFan\",\n",
    "                           \"EpI\", \"EpII\", \"EpIII\", \"EpIV\", \"EpV\", \"EpVI\",\n",
    "                           \"FanExpandedUniverse\", \"StarTrek\"]},\n",
    "        **{col: lambda x, col=col: x[col].replace({'Very favorably': 5, \n",
    "                                                   \"Somewhat favorably\": 4,\n",
    "                                                   \"Neither favorably nor unfavorably (neutral)\": 3,\n",
    "                                                   \"Somewhat unfavorably\": 2,\n",
    "                                                   \"Very unfavorably\": 1,\n",
    "                                                   \"Unfamiliar (N/A)\": 0})\n",
    "            for col in df.columns if col.startswith(\"Rank\") and not col.startswith(\"RankEp\")},\n",
    "        ShotFirst=lambda x: x['ShotFirst']\n",
    "                .replace({\"I don't understand this question\": \"No Opinion\",\n",
    "                          np.nan: \"No Idea\"}),\n",
    "        Sex=lambda x: x['Sex'].replace({'Male': \"M\",\n",
    "                                        'Female': \"F\"}),\n",
    "        \n",
    "        AvgAge=lambda x: (\n",
    "                (x['AgeRange'].str.replace(\"> 60\", \"60-100\")\n",
    "                 .fillna(\"0-0\")  # Fill NaN with a dummy value\n",
    "                 .str.split(\"-\").str[0].astype(int)) +\n",
    "                (x['AgeRange'].str.replace(\"> \", \"-\")\n",
    "                 .fillna(\"0-0\")\n",
    "                 .str.split(\"-\").str[1].astype(int))\n",
    "             / 2).round(1),\n",
    "        Income=lambda x: (\n",
    "            (x['IncomeRange']\n",
    "             .str.replace(r\"$\", \"\")\n",
    "             .str.replace('+', '')\n",
    "             .str.split('-').str[0].str.replace(',', '').fillna(0).astype(int) +  # Remove commas here\n",
    "             x['IncomeRange']\n",
    "             .str.replace(\"$\", \"\")\n",
    "             .str.replace('+', '')\n",
    "             .str.split('-').str[1].str.replace(',', '').fillna(0).astype(int)) / 2\n",
    "        ).round(0),\n",
    "        Education=lambda x: (\n",
    "                x['Education']\n",
    "                .replace({\"High school degree\": \"High School\",\n",
    "                              \"Bachelor degree\": \"Bachelors\",\n",
    "                              \"Some college or Associate degree\": \"Some College\",\n",
    "                              \"Graduate degree\": \"Graduate\",\n",
    "                              \"Less than high school degree\": \"No Degree\"})\n",
    "        ))\n",
    "\n",
    "\n",
    "    #.info()"
   ]
  },
  {
   "cell_type": "code",
   "execution_count": 181,
   "metadata": {},
   "outputs": [
    {
     "data": {
      "text/html": [
       "   <div id=\"1W7EIM\"></div>\n",
       "   <script type=\"text/javascript\" data-lets-plot-script=\"plot\">\n",
       "       (function() {\n",
       "           var plotSpec={\n",
       "\"data\":{\n",
       "\"AgeRange\":[\"18-29\",\"30-44\",\"45-60\",\"> 60\"],\n",
       "\"Income\":[39621.55963302752,60074.62686567164,56829.8969072165,53996.28252788104]\n",
       "},\n",
       "\"mapping\":{\n",
       "\"x\":\"AgeRange\",\n",
       "\"y\":\"Income\"\n",
       "},\n",
       "\"data_meta\":{\n",
       "\"series_annotations\":[{\n",
       "\"column\":\"AgeRange\",\n",
       "\"factor_levels\":[\"> 60\",\"18-29\",\"30-44\",\"45-60\"]\n",
       "}]\n",
       "},\n",
       "\"kind\":\"plot\",\n",
       "\"scales\":[{\n",
       "\"name\":\"Age Range\",\n",
       "\"aesthetic\":\"x\"\n",
       "},{\n",
       "\"name\":\"Mean Income\",\n",
       "\"aesthetic\":\"y\"\n",
       "}],\n",
       "\"layers\":[{\n",
       "\"geom\":\"bar\",\n",
       "\"stat\":\"identity\",\n",
       "\"mapping\":{\n",
       "},\n",
       "\"data_meta\":{\n",
       "\"series_annotations\":[{\n",
       "\"column\":\"AgeRange\",\n",
       "\"factor_levels\":[\"> 60\",\"18-29\",\"30-44\",\"45-60\"]\n",
       "}]\n",
       "},\n",
       "\"fill\":\"blue\",\n",
       "\"width\":0.7,\n",
       "\"data\":{\n",
       "}\n",
       "}],\n",
       "\"metainfo_list\":[]\n",
       "};\n",
       "           var plotContainer = document.getElementById(\"1W7EIM\");\n",
       "           window.letsPlotCall(function() {{\n",
       "               LetsPlot.buildPlotFromProcessedSpecs(plotSpec, -1, -1, plotContainer);\n",
       "           }});\n",
       "       })();    \n",
       "   </script>"
      ],
      "text/plain": [
       "<lets_plot.plot.core.PlotSpec at 0x262e21ec2c0>"
      ]
     },
     "execution_count": 181,
     "metadata": {},
     "output_type": "execute_result"
    }
   ],
   "source": [
    "final_summary = final.groupby('AgeRange', as_index=False).agg({'Income': 'mean'})\n",
    "\n",
    "custom_order = ['> 60', '18-29', '30-44', '45-60'] \n",
    "final_summary['AgeRange'] = pd.Categorical(final_summary['AgeRange'], categories=custom_order, ordered=True)\n",
    "\n",
    "p = (ggplot(final_summary, aes(x='AgeRange', y='Income')) + \n",
    "     geom_bar(stat='identity', fill='blue', width=0.7) +\n",
    "     labs(x='Age Range', y='Mean Income') )\n",
    "\n",
    "p\n"
   ]
  },
  {
   "cell_type": "code",
   "execution_count": 185,
   "metadata": {},
   "outputs": [
    {
     "data": {
      "text/html": [
       "   <div id=\"VrqPro\"></div>\n",
       "   <script type=\"text/javascript\" data-lets-plot-script=\"plot\">\n",
       "       (function() {\n",
       "           var plotSpec={\n",
       "\"data\":{\n",
       "\"AgeRange\":[\"18-29\",\"> 60\",\"45-60\",\"30-44\"],\n",
       "\"Income\":[39621.55963302752,53996.28252788104,56829.8969072165,60074.62686567164]\n",
       "},\n",
       "\"mapping\":{\n",
       "\"x\":\"AgeRange\",\n",
       "\"y\":\"Income\"\n",
       "},\n",
       "\"data_meta\":{\n",
       "},\n",
       "\"kind\":\"plot\",\n",
       "\"scales\":[{\n",
       "\"name\":\"Age Range\",\n",
       "\"aesthetic\":\"x\"\n",
       "},{\n",
       "\"name\":\"Mean Income\",\n",
       "\"aesthetic\":\"y\"\n",
       "}],\n",
       "\"layers\":[{\n",
       "\"geom\":\"bar\",\n",
       "\"stat\":\"identity\",\n",
       "\"mapping\":{\n",
       "},\n",
       "\"data_meta\":{\n",
       "},\n",
       "\"fill\":\"blue\",\n",
       "\"width\":0.7,\n",
       "\"data\":{\n",
       "}\n",
       "}],\n",
       "\"metainfo_list\":[]\n",
       "};\n",
       "           var plotContainer = document.getElementById(\"VrqPro\");\n",
       "           window.letsPlotCall(function() {{\n",
       "               LetsPlot.buildPlotFromProcessedSpecs(plotSpec, -1, -1, plotContainer);\n",
       "           }});\n",
       "       })();    \n",
       "   </script>"
      ],
      "text/plain": [
       "<lets_plot.plot.core.PlotSpec at 0x262e1ffb8c0>"
      ]
     },
     "execution_count": 185,
     "metadata": {},
     "output_type": "execute_result"
    }
   ],
   "source": [
    "\n",
    "\n",
    "final_summary = final.groupby('AgeRange', as_index=False).agg({'Income': 'mean'})\n",
    "\n",
    "final_summary = final_summary.sort_values(by='Income', ascending=True)\n",
    "\n",
    "p = (ggplot(final_summary, aes(x='AgeRange', y='Income')) + \n",
    "     geom_bar(stat='identity', fill='blue', width=0.7) +\n",
    "     labs(x='Age Range', y='Mean Income'))\n",
    "\n",
    "p\n"
   ]
  },
  {
   "cell_type": "code",
   "execution_count": 174,
   "metadata": {},
   "outputs": [
    {
     "data": {
      "text/html": [
       "   <div id=\"QkHzWU\"></div>\n",
       "   <script type=\"text/javascript\" data-lets-plot-script=\"plot\">\n",
       "       (function() {\n",
       "           var plotSpec={\n",
       "\"data\":{\n",
       "\"AgeRange\":[\"18-29\",\"30-44\",\"45-60\",\"> 60\"],\n",
       "\"Income\":[39621.55963302752,60074.62686567164,56829.8969072165,53996.28252788104]\n",
       "},\n",
       "\"mapping\":{\n",
       "\"x\":\"AgeRange\",\n",
       "\"y\":\"Income\"\n",
       "},\n",
       "\"data_meta\":{\n",
       "},\n",
       "\"kind\":\"plot\",\n",
       "\"scales\":[{\n",
       "\"name\":\"Average Age\",\n",
       "\"aesthetic\":\"x\"\n",
       "},{\n",
       "\"name\":\"Mean Income\",\n",
       "\"aesthetic\":\"y\"\n",
       "}],\n",
       "\"layers\":[{\n",
       "\"geom\":\"bar\",\n",
       "\"stat\":\"identity\",\n",
       "\"mapping\":{\n",
       "},\n",
       "\"data_meta\":{\n",
       "},\n",
       "\"fill\":\"blue\",\n",
       "\"width\":0.7,\n",
       "\"data\":{\n",
       "}\n",
       "}],\n",
       "\"metainfo_list\":[]\n",
       "};\n",
       "           var plotContainer = document.getElementById(\"QkHzWU\");\n",
       "           window.letsPlotCall(function() {{\n",
       "               LetsPlot.buildPlotFromProcessedSpecs(plotSpec, -1, -1, plotContainer);\n",
       "           }});\n",
       "       })();    \n",
       "   </script>"
      ],
      "text/plain": [
       "<lets_plot.plot.core.PlotSpec at 0x262e43de9f0>"
      ]
     },
     "execution_count": 174,
     "metadata": {},
     "output_type": "execute_result"
    }
   ],
   "source": [
    "\n",
    "final_summary = final.groupby('AgeRange', as_index=False).agg({'Income': 'mean'})\n",
    "p = (ggplot(final_summary, aes(x='AgeRange', y='Income')) + \n",
    "     geom_bar(stat='identity', fill='blue', width=0.7) +\n",
    "     labs(x='Average Age', y='Mean Income')  # Add labels for clarity\n",
    "     )  # Rotate x-axis labels if needed\n",
    "\n",
    "p\n"
   ]
  },
  {
   "cell_type": "code",
   "execution_count": 202,
   "metadata": {},
   "outputs": [
    {
     "data": {
      "text/html": [
       "   <div id=\"8g6YfI\"></div>\n",
       "   <script type=\"text/javascript\" data-lets-plot-script=\"plot\">\n",
       "       (function() {\n",
       "           var plotSpec={\n",
       "\"data\":{\n",
       "\"Education\":[\"Bachelors\",\"Bachelors\",\"Bachelors\",\"Bachelors\",\"Bachelors\",\"Graduate\",\"Graduate\",\"Graduate\",\"Graduate\",\"Graduate\",\"High School\",\"High School\",\"High School\",\"High School\",\"High School\",\"No Degree\",\"No Degree\",\"No Degree\",\"Some College\",\"Some College\",\"Some College\",\"Some College\",\"Some College\"],\n",
       "\"IncomeRange\":[\"$0 - $24,999\",\"$100,000 - $149,999\",\"$150,000+\",\"$25,000 - $49,999\",\"$50,000 - $99,999\",\"$0 - $24,999\",\"$100,000 - $149,999\",\"$150,000+\",\"$25,000 - $49,999\",\"$50,000 - $99,999\",\"$0 - $24,999\",\"$100,000 - $149,999\",\"$150,000+\",\"$25,000 - $49,999\",\"$50,000 - $99,999\",\"$0 - $24,999\",\"$25,000 - $49,999\",\"$50,000 - $99,999\",\"$0 - $24,999\",\"$100,000 - $149,999\",\"$150,000+\",\"$25,000 - $49,999\",\"$50,000 - $99,999\"],\n",
       "\"Proportion\":[0.12043795620437957,0.17153284671532848,0.14963503649635038,0.21532846715328466,0.34306569343065696,0.1031390134529148,0.242152466367713,0.17040358744394618,0.13004484304932734,0.3542600896860987,0.3493975903614458,0.08433734939759036,0.03614457831325301,0.24096385542168675,0.2891566265060241,0.5,0.25,0.25,0.1881918819188192,0.12177121771217712,0.04797047970479705,0.28044280442804426,0.36162361623616235]\n",
       "},\n",
       "\"mapping\":{\n",
       "\"x\":\"Education\",\n",
       "\"y\":\"Proportion\",\n",
       "\"fill\":\"IncomeRange\"\n",
       "},\n",
       "\"data_meta\":{\n",
       "\"series_annotations\":[{\n",
       "\"column\":\"Education\",\n",
       "\"factor_levels\":[\"No Degree\",\"High School\",\"Some College\",\"Bachelors\",\"Graduate\"]\n",
       "}]\n",
       "},\n",
       "\"ggtitle\":{\n",
       "\"text\":\"Proportion of EpII by Age Range and Income Range\"\n",
       "},\n",
       "\"kind\":\"plot\",\n",
       "\"scales\":[{\n",
       "\"name\":\"Age Range\",\n",
       "\"aesthetic\":\"x\"\n",
       "},{\n",
       "\"name\":\"Proportion of EpII\",\n",
       "\"aesthetic\":\"y\"\n",
       "}],\n",
       "\"layers\":[{\n",
       "\"geom\":\"bar\",\n",
       "\"stat\":\"identity\",\n",
       "\"mapping\":{\n",
       "},\n",
       "\"data_meta\":{\n",
       "\"series_annotations\":[{\n",
       "\"column\":\"Education\",\n",
       "\"factor_levels\":[\"No Degree\",\"High School\",\"Some College\",\"Bachelors\",\"Graduate\"]\n",
       "}]\n",
       "},\n",
       "\"width\":0.7,\n",
       "\"data\":{\n",
       "}\n",
       "}],\n",
       "\"metainfo_list\":[]\n",
       "};\n",
       "           var plotContainer = document.getElementById(\"8g6YfI\");\n",
       "           window.letsPlotCall(function() {{\n",
       "               LetsPlot.buildPlotFromProcessedSpecs(plotSpec, -1, -1, plotContainer);\n",
       "           }});\n",
       "       })();    \n",
       "   </script>"
      ],
      "text/plain": [
       "<lets_plot.plot.core.PlotSpec at 0x262df1c5760>"
      ]
     },
     "execution_count": 202,
     "metadata": {},
     "output_type": "execute_result"
    }
   ],
   "source": [
    "import pandas as pd\n",
    "from lets_plot import *\n",
    "\n",
    "\n",
    "final_summary = final.groupby(['Education', 'IncomeRange']).size().reset_index(name='Count')\n",
    "\n",
    "total_counts = final_summary.groupby('Education')['Count'].sum().reset_index(name='TotalCount')\n",
    "\n",
    "final_summary = final_summary.merge(total_counts, on='Education')\n",
    "final_summary['Proportion'] = final_summary['Count'] / final_summary['TotalCount']\n",
    "custom_order = ['No Degree', 'High School', 'Some College', 'Bachelors', 'Graduate']  \n",
    "final_summary['Education'] = pd.Categorical(final_summary['Education'], categories=custom_order, ordered=True)\n",
    "\n",
    "p = (ggplot(final_summary, aes(x='Education', y='Proportion', fill='IncomeRange')) + \n",
    "     geom_bar(stat='identity', width=0.7) +\n",
    "     labs(x='Age Range', y='Proportion of EpII', title='Proportion of EpII by Age Range and Income Range')) \n",
    "\n",
    "p\n"
   ]
  },
  {
   "cell_type": "markdown",
   "metadata": {},
   "source": []
  }
 ],
 "metadata": {
  "kernelspec": {
   "display_name": "Python 3",
   "language": "python",
   "name": "python3"
  },
  "language_info": {
   "codemirror_mode": {
    "name": "ipython",
    "version": 3
   },
   "file_extension": ".py",
   "mimetype": "text/x-python",
   "name": "python",
   "nbconvert_exporter": "python",
   "pygments_lexer": "ipython3",
   "version": "3.12.1"
  }
 },
 "nbformat": 4,
 "nbformat_minor": 2
}

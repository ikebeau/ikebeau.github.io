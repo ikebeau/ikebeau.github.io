{
 "cells": [
  {
   "cell_type": "markdown",
   "metadata": {},
   "source": [
    "# Import & Create Departments"
   ]
  },
  {
   "cell_type": "code",
   "execution_count": 2,
   "metadata": {},
   "outputs": [],
   "source": [
    "import pandas as pd\n",
    "from bs4 import BeautifulSoup\n",
    "from selenium import webdriver\n",
    "from selenium.webdriver.common.by import By\n",
    "from selenium.webdriver.chrome.service import Service\n",
    "from selenium.common.exceptions import NoSuchElementException\n",
    "from webdriver_manager.chrome import ChromeDriverManager\n",
    "import re\n",
    "import numpy as np"
   ]
  },
  {
   "cell_type": "code",
   "execution_count": null,
   "metadata": {},
   "outputs": [],
   "source": [
    "Departments = ['Chips', 'Bread', 'Sweets', 'Meat', 'Fruit', 'Vegetables', 'Sandwiches', 'Salads', 'Drinks']\n",
    "Class = {\n",
    "        # Walmart\n",
    "         'Chips': ['Potato', 'Tortilla', 'Vegetable'],\n",
    "        # Great Harvest\n",
    "         'Bread': ['Leanvened', 'Flatbreads', 'Specialty'],\n",
    "        # CheeseCake Factory \n",
    "         'Sweets': ['Baked', 'Confections', 'Frozen'],\n",
    "        # 56cutz\n",
    "         'Meat': ['Red', 'Poultry', 'Seafood'],\n",
    "        # Whole Food Market \n",
    "         'Fruit': ['Citrus', 'Stone', 'Berries', 'Pome', 'Tropical'],\n",
    "        # Whole Foods Market\n",
    "         'Vegetables': ['Leafy', 'Root', 'Cruciferous', 'Fruiting'],\n",
    "         # Subway\n",
    "         'Sandwiches': ['Cold', 'Hot', 'Open-Faced'],\n",
    "         # Cafe Zupas\n",
    "         'Salads': ['Green', 'Grain & Pasta', 'Protein-Based'],\n",
    "         # Jamba Juice\n",
    "         'Drinks': ['Smoothies', 'Soft', 'Juices']}\n",
    "Fineline = "
   ]
  },
  {
   "cell_type": "markdown",
   "metadata": {},
   "source": [
    "# Webscraping"
   ]
  },
  {
   "cell_type": "code",
   "execution_count": null,
   "metadata": {},
   "outputs": [],
   "source": [
    "driver = webdriver.Chrome(service=Service(ChromeDriverManager().install()))\n"
   ]
  },
  {
   "cell_type": "markdown",
   "metadata": {},
   "source": [
    "## Walmart "
   ]
  },
  {
   "cell_type": "code",
   "execution_count": null,
   "metadata": {},
   "outputs": [],
   "source": []
  },
  {
   "cell_type": "markdown",
   "metadata": {},
   "source": [
    "## Great Harvest"
   ]
  },
  {
   "cell_type": "code",
   "execution_count": null,
   "metadata": {},
   "outputs": [],
   "source": []
  },
  {
   "cell_type": "markdown",
   "metadata": {},
   "source": [
    "## Cheese Cake Factory"
   ]
  },
  {
   "cell_type": "markdown",
   "metadata": {},
   "source": [
    "## 56cutz"
   ]
  },
  {
   "cell_type": "markdown",
   "metadata": {},
   "source": [
    "## Whole Food Market"
   ]
  },
  {
   "cell_type": "markdown",
   "metadata": {},
   "source": [
    "## Subway"
   ]
  },
  {
   "cell_type": "markdown",
   "metadata": {},
   "source": [
    "## Cafe Zupas"
   ]
  },
  {
   "cell_type": "markdown",
   "metadata": {},
   "source": [
    "## Jamba Juice"
   ]
  },
  {
   "cell_type": "code",
   "execution_count": null,
   "metadata": {},
   "outputs": [],
   "source": []
  },
  {
   "cell_type": "code",
   "execution_count": null,
   "metadata": {},
   "outputs": [],
   "source": []
  }
 ],
 "metadata": {
  "kernelspec": {
   "display_name": "Python 3",
   "language": "python",
   "name": "python3"
  },
  "language_info": {
   "codemirror_mode": {
    "name": "ipython",
    "version": 3
   },
   "file_extension": ".py",
   "mimetype": "text/x-python",
   "name": "python",
   "nbconvert_exporter": "python",
   "pygments_lexer": "ipython3",
   "version": "3.12.1"
  }
 },
 "nbformat": 4,
 "nbformat_minor": 2
}
